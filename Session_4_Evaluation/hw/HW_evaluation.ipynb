{
 "cells": [
  {
   "cell_type": "markdown",
   "metadata": {},
   "source": [
    "# Model Evaluation"
   ]
  },
  {
   "cell_type": "markdown",
   "metadata": {},
   "source": [
    "Here we will work with Credit Card Data from \"Econometric Analysis\""
   ]
  },
  {
   "cell_type": "markdown",
   "metadata": {},
   "source": [
    "- We will create classification model\n",
    "- Then we will inspect the output of different evaluation metrics"
   ]
  },
  {
   "cell_type": "code",
   "execution_count": 75,
   "metadata": {},
   "outputs": [],
   "source": [
    "import pandas as pd\n",
    "import numpy as np\n",
    "\n",
    "from collections import Counter\n",
    "\n",
    "from matplotlib import pyplot as plt\n",
    "import seaborn as sns\n",
    "\n",
    "from sklearn.model_selection import train_test_split\n",
    "from sklearn.model_selection import KFold\n",
    "from sklearn.feature_extraction import DictVectorizer\n",
    "from sklearn.linear_model import LogisticRegression\n",
    "from sklearn.metrics import roc_curve\n",
    "from sklearn.metrics import auc\n",
    "from sklearn.metrics import roc_auc_score"
   ]
  },
  {
   "cell_type": "code",
   "execution_count": 76,
   "metadata": {},
   "outputs": [
    {
     "data": {
      "text/html": [
       "<div>\n",
       "<style scoped>\n",
       "    .dataframe tbody tr th:only-of-type {\n",
       "        vertical-align: middle;\n",
       "    }\n",
       "\n",
       "    .dataframe tbody tr th {\n",
       "        vertical-align: top;\n",
       "    }\n",
       "\n",
       "    .dataframe thead th {\n",
       "        text-align: right;\n",
       "    }\n",
       "</style>\n",
       "<table border=\"1\" class=\"dataframe\">\n",
       "  <thead>\n",
       "    <tr style=\"text-align: right;\">\n",
       "      <th></th>\n",
       "      <th>card</th>\n",
       "      <th>reports</th>\n",
       "      <th>age</th>\n",
       "      <th>income</th>\n",
       "      <th>share</th>\n",
       "      <th>expenditure</th>\n",
       "      <th>owner</th>\n",
       "      <th>selfemp</th>\n",
       "      <th>dependents</th>\n",
       "      <th>months</th>\n",
       "      <th>majorcards</th>\n",
       "      <th>active</th>\n",
       "    </tr>\n",
       "  </thead>\n",
       "  <tbody>\n",
       "    <tr>\n",
       "      <th>0</th>\n",
       "      <td>yes</td>\n",
       "      <td>0</td>\n",
       "      <td>37.66667</td>\n",
       "      <td>4.5200</td>\n",
       "      <td>0.033270</td>\n",
       "      <td>124.983300</td>\n",
       "      <td>yes</td>\n",
       "      <td>no</td>\n",
       "      <td>3</td>\n",
       "      <td>54</td>\n",
       "      <td>1</td>\n",
       "      <td>12</td>\n",
       "    </tr>\n",
       "    <tr>\n",
       "      <th>1</th>\n",
       "      <td>yes</td>\n",
       "      <td>0</td>\n",
       "      <td>33.25000</td>\n",
       "      <td>2.4200</td>\n",
       "      <td>0.005217</td>\n",
       "      <td>9.854167</td>\n",
       "      <td>no</td>\n",
       "      <td>no</td>\n",
       "      <td>3</td>\n",
       "      <td>34</td>\n",
       "      <td>1</td>\n",
       "      <td>13</td>\n",
       "    </tr>\n",
       "    <tr>\n",
       "      <th>2</th>\n",
       "      <td>yes</td>\n",
       "      <td>0</td>\n",
       "      <td>33.66667</td>\n",
       "      <td>4.5000</td>\n",
       "      <td>0.004156</td>\n",
       "      <td>15.000000</td>\n",
       "      <td>yes</td>\n",
       "      <td>no</td>\n",
       "      <td>4</td>\n",
       "      <td>58</td>\n",
       "      <td>1</td>\n",
       "      <td>5</td>\n",
       "    </tr>\n",
       "    <tr>\n",
       "      <th>3</th>\n",
       "      <td>yes</td>\n",
       "      <td>0</td>\n",
       "      <td>30.50000</td>\n",
       "      <td>2.5400</td>\n",
       "      <td>0.065214</td>\n",
       "      <td>137.869200</td>\n",
       "      <td>no</td>\n",
       "      <td>no</td>\n",
       "      <td>0</td>\n",
       "      <td>25</td>\n",
       "      <td>1</td>\n",
       "      <td>7</td>\n",
       "    </tr>\n",
       "    <tr>\n",
       "      <th>4</th>\n",
       "      <td>yes</td>\n",
       "      <td>0</td>\n",
       "      <td>32.16667</td>\n",
       "      <td>9.7867</td>\n",
       "      <td>0.067051</td>\n",
       "      <td>546.503300</td>\n",
       "      <td>yes</td>\n",
       "      <td>no</td>\n",
       "      <td>2</td>\n",
       "      <td>64</td>\n",
       "      <td>1</td>\n",
       "      <td>5</td>\n",
       "    </tr>\n",
       "  </tbody>\n",
       "</table>\n",
       "</div>"
      ],
      "text/plain": [
       "  card  reports       age  income     share  expenditure owner selfemp  \\\n",
       "0  yes        0  37.66667  4.5200  0.033270   124.983300   yes      no   \n",
       "1  yes        0  33.25000  2.4200  0.005217     9.854167    no      no   \n",
       "2  yes        0  33.66667  4.5000  0.004156    15.000000   yes      no   \n",
       "3  yes        0  30.50000  2.5400  0.065214   137.869200    no      no   \n",
       "4  yes        0  32.16667  9.7867  0.067051   546.503300   yes      no   \n",
       "\n",
       "   dependents  months  majorcards  active  \n",
       "0           3      54           1      12  \n",
       "1           3      34           1      13  \n",
       "2           4      58           1       5  \n",
       "3           0      25           1       7  \n",
       "4           2      64           1       5  "
      ]
     },
     "execution_count": 76,
     "metadata": {},
     "output_type": "execute_result"
    }
   ],
   "source": [
    "# load data:\n",
    "df = pd.read_csv('./AER_credit_card_data.csv')\n",
    "df.head()"
   ]
  },
  {
   "cell_type": "markdown",
   "metadata": {},
   "source": [
    "target variable - \"card\"\n",
    "- this feature is binary"
   ]
  },
  {
   "cell_type": "markdown",
   "metadata": {},
   "source": [
    "# Data Preparation"
   ]
  },
  {
   "cell_type": "markdown",
   "metadata": {},
   "source": [
    "- We will change target variable coding:\n",
    "    - yes = 1\n",
    "    - no = 0\n",
    "- Then we will split data into 3 parts (train/validation/test) with 60/20/20% share"
   ]
  },
  {
   "cell_type": "code",
   "execution_count": 77,
   "metadata": {},
   "outputs": [],
   "source": [
    "# mapping target variable:\n",
    "def target_variable_mapping(value):\n",
    "    if value == 'yes':\n",
    "        result = 1\n",
    "    elif value == 'no':\n",
    "        result = 0\n",
    "    return result\n",
    "\n",
    "# apply mapping:\n",
    "df['card'] = df['card'].apply(lambda x: target_variable_mapping(x))\n",
    "df_initial = df.copy()"
   ]
  },
  {
   "cell_type": "code",
   "execution_count": 78,
   "metadata": {},
   "outputs": [],
   "source": [
    "# data splitting:\n",
    "df_full_train, df_test = train_test_split(df, test_size=0.2, random_state=1)\n",
    "df_train, df_val = train_test_split(df_full_train, test_size=0.25, random_state=1)"
   ]
  },
  {
   "cell_type": "code",
   "execution_count": 79,
   "metadata": {},
   "outputs": [
    {
     "name": "stdout",
     "output_type": "stream",
     "text": [
      "n_train = 791\n",
      "n_val = 264\n",
      "n_test = 264\n",
      "Total number of records = 1319\n",
      "test sum = 1319\n"
     ]
    }
   ],
   "source": [
    "# check:\n",
    "n = len(df)\n",
    "n_train = len(df_train)\n",
    "n_val = len(df_val)\n",
    "n_test = len(df_test)\n",
    "\n",
    "\n",
    "print(f'n_train = {n_train}')\n",
    "print(f'n_val = {n_val}')\n",
    "print(f'n_test = {n_test}')\n",
    "print(f'Total number of records = {n}')\n",
    "print(f'test sum = {n_train + n_val + n_test}')"
   ]
  },
  {
   "cell_type": "markdown",
   "metadata": {},
   "source": [
    "# Question 1:  "
   ]
  },
  {
   "cell_type": "markdown",
   "metadata": {},
   "source": [
    "AUC could also be used to evaluate feature importance of numerical variables, let us show this"
   ]
  },
  {
   "cell_type": "markdown",
   "metadata": {},
   "source": [
    "- for each numerical variable, we will use AUC with card variable (target), we will use training dataset for that"
   ]
  },
  {
   "cell_type": "markdown",
   "metadata": {},
   "source": [
    "- If AUC score < 0.5, we will invert this variable (\"negative sign\"). AUC score < 0.5 means that there is a negative correlation of studied variable with the target variable"
   ]
  },
  {
   "cell_type": "code",
   "execution_count": 80,
   "metadata": {},
   "outputs": [
    {
     "data": {
      "text/plain": [
       "card             int64\n",
       "reports          int64\n",
       "age            float64\n",
       "income         float64\n",
       "share          float64\n",
       "expenditure    float64\n",
       "owner           object\n",
       "selfemp         object\n",
       "dependents       int64\n",
       "months           int64\n",
       "majorcards       int64\n",
       "active           int64\n",
       "dtype: object"
      ]
     },
     "execution_count": 80,
     "metadata": {},
     "output_type": "execute_result"
    }
   ],
   "source": [
    "df.dtypes"
   ]
  },
  {
   "cell_type": "code",
   "execution_count": 81,
   "metadata": {},
   "outputs": [
    {
     "data": {
      "text/plain": [
       "<AxesSubplot:xlabel='dependents', ylabel='card'>"
      ]
     },
     "execution_count": 81,
     "metadata": {},
     "output_type": "execute_result"
    },
    {
     "data": {
      "image/png": "[encoded data removed]",
      "text/plain": [
       "<Figure size 432x288 with 1 Axes>"
      ]
     },
     "metadata": {
      "needs_background": "light"
     },
     "output_type": "display_data"
    }
   ],
   "source": [
    "# plot:\n",
    "sns.scatterplot(data=df_train, x='dependents', y='card')"
   ]
  },
  {
   "cell_type": "code",
   "execution_count": 82,
   "metadata": {},
   "outputs": [
    {
     "data": {
      "text/html": [
       "<div>\n",
       "<style scoped>\n",
       "    .dataframe tbody tr th:only-of-type {\n",
       "        vertical-align: middle;\n",
       "    }\n",
       "\n",
       "    .dataframe tbody tr th {\n",
       "        vertical-align: top;\n",
       "    }\n",
       "\n",
       "    .dataframe thead th {\n",
       "        text-align: right;\n",
       "    }\n",
       "</style>\n",
       "<table border=\"1\" class=\"dataframe\">\n",
       "  <thead>\n",
       "    <tr style=\"text-align: right;\">\n",
       "      <th></th>\n",
       "      <th>card</th>\n",
       "      <th>reports</th>\n",
       "      <th>age</th>\n",
       "      <th>income</th>\n",
       "      <th>share</th>\n",
       "      <th>expenditure</th>\n",
       "      <th>owner</th>\n",
       "      <th>selfemp</th>\n",
       "      <th>dependents</th>\n",
       "      <th>months</th>\n",
       "      <th>majorcards</th>\n",
       "      <th>active</th>\n",
       "    </tr>\n",
       "  </thead>\n",
       "  <tbody>\n",
       "    <tr>\n",
       "      <th>1203</th>\n",
       "      <td>0</td>\n",
       "      <td>2</td>\n",
       "      <td>24.58333</td>\n",
       "      <td>2.2000</td>\n",
       "      <td>0.000545</td>\n",
       "      <td>0.00000</td>\n",
       "      <td>no</td>\n",
       "      <td>no</td>\n",
       "      <td>0</td>\n",
       "      <td>6</td>\n",
       "      <td>1</td>\n",
       "      <td>8</td>\n",
       "    </tr>\n",
       "    <tr>\n",
       "      <th>516</th>\n",
       "      <td>1</td>\n",
       "      <td>0</td>\n",
       "      <td>32.08333</td>\n",
       "      <td>2.4000</td>\n",
       "      <td>0.142641</td>\n",
       "      <td>285.28250</td>\n",
       "      <td>yes</td>\n",
       "      <td>no</td>\n",
       "      <td>0</td>\n",
       "      <td>96</td>\n",
       "      <td>0</td>\n",
       "      <td>8</td>\n",
       "    </tr>\n",
       "    <tr>\n",
       "      <th>1010</th>\n",
       "      <td>1</td>\n",
       "      <td>0</td>\n",
       "      <td>61.58333</td>\n",
       "      <td>3.7500</td>\n",
       "      <td>0.000320</td>\n",
       "      <td>0.00000</td>\n",
       "      <td>yes</td>\n",
       "      <td>no</td>\n",
       "      <td>0</td>\n",
       "      <td>288</td>\n",
       "      <td>1</td>\n",
       "      <td>5</td>\n",
       "    </tr>\n",
       "    <tr>\n",
       "      <th>1055</th>\n",
       "      <td>1</td>\n",
       "      <td>0</td>\n",
       "      <td>30.58333</td>\n",
       "      <td>1.8000</td>\n",
       "      <td>0.019899</td>\n",
       "      <td>29.51583</td>\n",
       "      <td>no</td>\n",
       "      <td>no</td>\n",
       "      <td>0</td>\n",
       "      <td>6</td>\n",
       "      <td>1</td>\n",
       "      <td>10</td>\n",
       "    </tr>\n",
       "    <tr>\n",
       "      <th>1178</th>\n",
       "      <td>1</td>\n",
       "      <td>0</td>\n",
       "      <td>32.00000</td>\n",
       "      <td>2.2800</td>\n",
       "      <td>0.067360</td>\n",
       "      <td>127.98330</td>\n",
       "      <td>yes</td>\n",
       "      <td>no</td>\n",
       "      <td>0</td>\n",
       "      <td>48</td>\n",
       "      <td>0</td>\n",
       "      <td>15</td>\n",
       "    </tr>\n",
       "    <tr>\n",
       "      <th>...</th>\n",
       "      <td>...</td>\n",
       "      <td>...</td>\n",
       "      <td>...</td>\n",
       "      <td>...</td>\n",
       "      <td>...</td>\n",
       "      <td>...</td>\n",
       "      <td>...</td>\n",
       "      <td>...</td>\n",
       "      <td>...</td>\n",
       "      <td>...</td>\n",
       "      <td>...</td>\n",
       "      <td>...</td>\n",
       "    </tr>\n",
       "    <tr>\n",
       "      <th>1047</th>\n",
       "      <td>1</td>\n",
       "      <td>0</td>\n",
       "      <td>34.83333</td>\n",
       "      <td>3.0000</td>\n",
       "      <td>0.126377</td>\n",
       "      <td>315.94250</td>\n",
       "      <td>no</td>\n",
       "      <td>no</td>\n",
       "      <td>6</td>\n",
       "      <td>12</td>\n",
       "      <td>0</td>\n",
       "      <td>16</td>\n",
       "    </tr>\n",
       "    <tr>\n",
       "      <th>851</th>\n",
       "      <td>1</td>\n",
       "      <td>0</td>\n",
       "      <td>34.58333</td>\n",
       "      <td>7.0000</td>\n",
       "      <td>0.035465</td>\n",
       "      <td>206.38170</td>\n",
       "      <td>no</td>\n",
       "      <td>yes</td>\n",
       "      <td>6</td>\n",
       "      <td>63</td>\n",
       "      <td>1</td>\n",
       "      <td>3</td>\n",
       "    </tr>\n",
       "    <tr>\n",
       "      <th>815</th>\n",
       "      <td>1</td>\n",
       "      <td>0</td>\n",
       "      <td>43.33333</td>\n",
       "      <td>3.9495</td>\n",
       "      <td>0.157147</td>\n",
       "      <td>517.21170</td>\n",
       "      <td>yes</td>\n",
       "      <td>no</td>\n",
       "      <td>6</td>\n",
       "      <td>3</td>\n",
       "      <td>0</td>\n",
       "      <td>0</td>\n",
       "    </tr>\n",
       "    <tr>\n",
       "      <th>1184</th>\n",
       "      <td>0</td>\n",
       "      <td>0</td>\n",
       "      <td>35.83333</td>\n",
       "      <td>4.5000</td>\n",
       "      <td>0.000267</td>\n",
       "      <td>0.00000</td>\n",
       "      <td>yes</td>\n",
       "      <td>no</td>\n",
       "      <td>6</td>\n",
       "      <td>6</td>\n",
       "      <td>0</td>\n",
       "      <td>0</td>\n",
       "    </tr>\n",
       "    <tr>\n",
       "      <th>912</th>\n",
       "      <td>0</td>\n",
       "      <td>0</td>\n",
       "      <td>29.33333</td>\n",
       "      <td>3.5000</td>\n",
       "      <td>0.000343</td>\n",
       "      <td>0.00000</td>\n",
       "      <td>no</td>\n",
       "      <td>no</td>\n",
       "      <td>6</td>\n",
       "      <td>0</td>\n",
       "      <td>1</td>\n",
       "      <td>2</td>\n",
       "    </tr>\n",
       "  </tbody>\n",
       "</table>\n",
       "<p>791 rows × 12 columns</p>\n",
       "</div>"
      ],
      "text/plain": [
       "      card  reports       age  income     share  expenditure owner selfemp  \\\n",
       "1203     0        2  24.58333  2.2000  0.000545      0.00000    no      no   \n",
       "516      1        0  32.08333  2.4000  0.142641    285.28250   yes      no   \n",
       "1010     1        0  61.58333  3.7500  0.000320      0.00000   yes      no   \n",
       "1055     1        0  30.58333  1.8000  0.019899     29.51583    no      no   \n",
       "1178     1        0  32.00000  2.2800  0.067360    127.98330   yes      no   \n",
       "...    ...      ...       ...     ...       ...          ...   ...     ...   \n",
       "1047     1        0  34.83333  3.0000  0.126377    315.94250    no      no   \n",
       "851      1        0  34.58333  7.0000  0.035465    206.38170    no     yes   \n",
       "815      1        0  43.33333  3.9495  0.157147    517.21170   yes      no   \n",
       "1184     0        0  35.83333  4.5000  0.000267      0.00000   yes      no   \n",
       "912      0        0  29.33333  3.5000  0.000343      0.00000    no      no   \n",
       "\n",
       "      dependents  months  majorcards  active  \n",
       "1203           0       6           1       8  \n",
       "516            0      96           0       8  \n",
       "1010           0     288           1       5  \n",
       "1055           0       6           1      10  \n",
       "1178           0      48           0      15  \n",
       "...          ...     ...         ...     ...  \n",
       "1047           6      12           0      16  \n",
       "851            6      63           1       3  \n",
       "815            6       3           0       0  \n",
       "1184           6       6           0       0  \n",
       "912            6       0           1       2  \n",
       "\n",
       "[791 rows x 12 columns]"
      ]
     },
     "execution_count": 82,
     "metadata": {},
     "output_type": "execute_result"
    }
   ],
   "source": [
    "df_train.sort_values(by='dependents')"
   ]
  },
  {
   "cell_type": "code",
   "execution_count": 83,
   "metadata": {},
   "outputs": [],
   "source": [
    "def scores_by_feature(feature):\n",
    "    scores = []\n",
    "\n",
    "    thresholds = np.linspace(df_train[feature].min(), df_train[feature].max(), 101)\n",
    "\n",
    "    for t in thresholds:\n",
    "        actual_positive = (df_train['card'] == 1)\n",
    "        actual_negative = (df_train['card'] == 0)\n",
    "        predict_positive = (df_train[feature] >= t)\n",
    "        predict_negative = (df_train[feature] < t)\n",
    "        tp = (predict_positive & actual_positive).sum()\n",
    "        tn = (predict_negative & actual_negative).sum()\n",
    "        fp = (predict_positive & actual_negative).sum()\n",
    "        fn = (predict_negative & actual_positive).sum()\n",
    "        scores.append((t, tp, fp, fn, tn))\n",
    "    columns = ['threshold', 'tp', 'fp', 'fn', 'tn']\n",
    "    df_scores = pd.DataFrame(scores, columns=columns)\n",
    "    df_scores['tpr'] = df_scores['tp'] / (df_scores['tp']+df_scores['fn'])\n",
    "    df_scores['fpr'] = df_scores['fp'] / (df_scores['fp']+df_scores['tn'])\n",
    "    return df_scores"
   ]
  },
  {
   "cell_type": "code",
   "execution_count": 84,
   "metadata": {},
   "outputs": [
    {
     "name": "stdout",
     "output_type": "stream",
     "text": [
      "auc_reports = 0.28333701393106236\n",
      "auc_dependents = 0.46719667273965293\n",
      "auc_active = 0.6043173411362005\n",
      "auc_share = 0.9552117263843648\n"
     ]
    },
    {
     "data": {
      "image/png": "[encoded data removed]",
      "text/plain": [
       "<Figure size 432x288 with 1 Axes>"
      ]
     },
     "metadata": {
      "needs_background": "light"
     },
     "output_type": "display_data"
    }
   ],
   "source": [
    "df_scores_reports = scores_by_feature('reports')\n",
    "df_scores_dependents = scores_by_feature('dependents')\n",
    "df_scores_active = scores_by_feature('active')\n",
    "df_scores_share = scores_by_feature('share')\n",
    "\n",
    "auc_reports = auc(df_scores_reports['fpr'], df_scores_reports['tpr'])\n",
    "auc_dependents = auc(df_scores_dependents['fpr'], df_scores_dependents['tpr'])\n",
    "auc_active = auc(df_scores_active['fpr'], df_scores_active['tpr'])\n",
    "auc_share = auc(df_scores_share['fpr'], df_scores_share['tpr'])\n",
    "\n",
    "# visualiza one example\n",
    "plt.plot(df_scores_reports['fpr'], df_scores_reports['tpr'], label='reports')\n",
    "plt.plot(df_scores_dependents['fpr'], df_scores_dependents['tpr'], label='dependents')\n",
    "plt.plot(df_scores_active['fpr'], df_scores_active['tpr'], label='active')\n",
    "plt.plot(df_scores_share['fpr'], df_scores_share['tpr'], label='share')\n",
    "plt.legend()\n",
    "\n",
    "print(f'auc_reports = {auc_reports}')\n",
    "print(f'auc_dependents = {auc_dependents}')\n",
    "print(f'auc_active = {auc_active}')\n",
    "print(f'auc_share = {auc_share}')"
   ]
  },
  {
   "cell_type": "markdown",
   "metadata": {},
   "source": [
    "since only auc score for share feature has value > 0.5, other features will be changed in direction (- sign)"
   ]
  },
  {
   "cell_type": "code",
   "execution_count": 85,
   "metadata": {},
   "outputs": [],
   "source": [
    "def scores_by_feature_neg(feature):\n",
    "    scores = []\n",
    "\n",
    "    thresholds = np.linspace(df_train[feature].min(), df_train[feature].max(), 101)\n",
    "\n",
    "    for t in thresholds:\n",
    "        actual_positive = (df_train['card'] == 1)\n",
    "        actual_negative = (df_train['card'] == 0)\n",
    "        predict_positive = (df_train[feature] < t)\n",
    "        predict_negative = (df_train[feature] >= t)\n",
    "        tp = (predict_positive & actual_positive).sum()\n",
    "        tn = (predict_negative & actual_negative).sum()\n",
    "        fp = (predict_positive & actual_negative).sum()\n",
    "        fn = (predict_negative & actual_positive).sum()\n",
    "        scores.append((t, tp, fp, fn, tn))\n",
    "    columns = ['threshold', 'tp', 'fp', 'fn', 'tn']\n",
    "    df_scores = pd.DataFrame(scores, columns=columns)\n",
    "    df_scores['tpr'] = df_scores['tp'] / (df_scores['tp']+df_scores['fn'])\n",
    "    df_scores['fpr'] = df_scores['fp'] / (df_scores['fp']+df_scores['tn'])\n",
    "    return df_scores"
   ]
  },
  {
   "cell_type": "code",
   "execution_count": 86,
   "metadata": {},
   "outputs": [
    {
     "name": "stdout",
     "output_type": "stream",
     "text": [
      "auc_reports = 0.7110132685548134\n",
      "auc_dependents = 0.5215038922320985\n",
      "auc_active = 0.6043173411362005\n",
      "auc_share = 0.9552117263843648\n"
     ]
    },
    {
     "data": {
      "image/png": "[encoded data removed]",
      "text/plain": [
       "<Figure size 432x288 with 1 Axes>"
      ]
     },
     "metadata": {
      "needs_background": "light"
     },
     "output_type": "display_data"
    }
   ],
   "source": [
    "df_scores_reports = scores_by_feature_neg('reports')\n",
    "df_scores_dependents = scores_by_feature_neg('dependents')\n",
    "df_scores_active = scores_by_feature('active')\n",
    "df_scores_share = scores_by_feature('share')\n",
    "\n",
    "auc_reports = auc(df_scores_reports['fpr'], df_scores_reports['tpr'])\n",
    "auc_dependents = auc(df_scores_dependents['fpr'], df_scores_dependents['tpr'])\n",
    "auc_active = auc(df_scores_active['fpr'], df_scores_active['tpr'])\n",
    "auc_share = auc(df_scores_share['fpr'], df_scores_share['tpr'])\n",
    "\n",
    "# visualiza\n",
    "plt.plot(df_scores_reports['fpr'], df_scores_reports['tpr'], label='reports')\n",
    "plt.plot(df_scores_dependents['fpr'], df_scores_dependents['tpr'], label='dependents')\n",
    "plt.plot(df_scores_active['fpr'], df_scores_active['tpr'], label='active')\n",
    "plt.plot(df_scores_share['fpr'], df_scores_share['tpr'], label='share')\n",
    "plt.legend()\n",
    "\n",
    "print(f'auc_reports = {auc_reports}')\n",
    "print(f'auc_dependents = {auc_dependents}')\n",
    "print(f'auc_active = {auc_active}')\n",
    "print(f'auc_share = {auc_share}')"
   ]
  },
  {
   "cell_type": "markdown",
   "metadata": {},
   "source": [
    "**Share** feature has very high AUC score, since"
   ]
  },
  {
   "cell_type": "code",
   "execution_count": null,
   "metadata": {},
   "outputs": [],
   "source": []
  },
  {
   "cell_type": "markdown",
   "metadata": {},
   "source": [
    "### Training the model"
   ]
  },
  {
   "cell_type": "markdown",
   "metadata": {},
   "source": [
    "# Question 2"
   ]
  },
  {
   "cell_type": "markdown",
   "metadata": {},
   "source": [
    "In this porject we will use the following features:\n",
    "- reports,\n",
    "- age,\n",
    "- income,\n",
    "- share,\n",
    "- expenditure,\n",
    "- dependents,\n",
    "- months,\n",
    "- majorcards,\n",
    "- active,\n",
    "- owner,\n",
    "- selfemp"
   ]
  },
  {
   "cell_type": "code",
   "execution_count": 87,
   "metadata": {},
   "outputs": [],
   "source": [
    "df = df[[\n",
    "    \"reports\",\n",
    "     \"age\",\n",
    "    \"income\",\n",
    "    \"share\",\n",
    "    \"expenditure\",\n",
    "    \"dependents\",\n",
    "    \"months\",\n",
    "    \"majorcards\",\n",
    "    \"active\",\n",
    "    \"owner\",\n",
    "    \"selfemp\",\n",
    "    'card' # target\n",
    "    ]]\n",
    "\n",
    "df_full_train, df_test = train_test_split(df, test_size=0.2, random_state=1)\n",
    "df_train, df_val = train_test_split(df_full_train, test_size=0.25, random_state=1)\n",
    "\n",
    "df_full_train = df_full_train.reset_index(drop=True)\n",
    "df_train = df_train.reset_index(drop=True)\n",
    "df_val = df_val.reset_index(drop=True)\n",
    "df_test = df_test.reset_index(drop=True)\n",
    "\n",
    "y_full_train = df_full_train['card'].values\n",
    "y_train = df_train['card'].values\n",
    "y_val = df_val['card'].values\n",
    "y_test = df_test['card'].values\n",
    "\n",
    "del df_full_train['card']\n",
    "del df_train['card']\n",
    "del df_val['card']\n",
    "del df_test['card']"
   ]
  },
  {
   "cell_type": "markdown",
   "metadata": {},
   "source": [
    "we will apply one-hot encoding by using DictVectorizer,  \n",
    "then we will train Logistic Regression model with the following parameters:  \n",
    "*LogisticRegression(solver='liblinear', C=1.0, max_iter=1000)*"
   ]
  },
  {
   "cell_type": "code",
   "execution_count": 88,
   "metadata": {},
   "outputs": [],
   "source": [
    "# one-hot encoding of categorical varibales:\n",
    "dicts_train = df_train.to_dict(orient='records')\n",
    "dicts_val = df_val.to_dict(orient='records')\n",
    "dicts_test = df_test.to_dict(orient='records')\n",
    "\n",
    "\n",
    "dv = DictVectorizer(sparse=False)\n",
    "dv.fit(dicts_train)\n",
    "x_train = dv.transform(dicts_train)\n",
    "x_val = dv.transform(dicts_val)\n",
    "x_test = dv.transform(dicts_test)"
   ]
  },
  {
   "cell_type": "code",
   "execution_count": 89,
   "metadata": {},
   "outputs": [
    {
     "data": {
      "text/plain": [
       "0.995"
      ]
     },
     "execution_count": 89,
     "metadata": {},
     "output_type": "execute_result"
    }
   ],
   "source": [
    "# training the model:\n",
    "model = LogisticRegression(solver='liblinear', C=1.0, max_iter=1000)\n",
    "model.fit(x_train, y_train)\n",
    "y_pred_probs = model.predict_proba(x_val)[:,1]\n",
    "round(roc_auc_score(y_val, y_pred_probs), 3)"
   ]
  },
  {
   "cell_type": "code",
   "execution_count": null,
   "metadata": {},
   "outputs": [],
   "source": []
  },
  {
   "cell_type": "markdown",
   "metadata": {},
   "source": [
    "# Question 3"
   ]
  },
  {
   "cell_type": "markdown",
   "metadata": {},
   "source": [
    "now we will evaluate precision and recall for our model"
   ]
  },
  {
   "cell_type": "code",
   "execution_count": 90,
   "metadata": {},
   "outputs": [
    {
     "data": {
      "text/plain": [
       "<matplotlib.legend.Legend at 0x191575a9a20>"
      ]
     },
     "execution_count": 90,
     "metadata": {},
     "output_type": "execute_result"
    },
    {
     "data": {
      "image/png": "[encoded data removed]",
      "text/plain": [
       "<Figure size 432x288 with 1 Axes>"
      ]
     },
     "metadata": {
      "needs_background": "light"
     },
     "output_type": "display_data"
    }
   ],
   "source": [
    "thresholds = np.linspace(0,1, 100)\n",
    "scores = []\n",
    "for t in thresholds:\n",
    "\n",
    "    positive_predictions = y_pred_probs >= t\n",
    "    negative_predictions = y_pred_probs < t\n",
    "\n",
    "    positive_actual = y_val == 1\n",
    "    negative_actual = y_val == 0\n",
    "\n",
    "    tp = (positive_predictions & positive_actual).sum()\n",
    "    fp = (positive_predictions & negative_actual).sum()\n",
    "    tn = (negative_predictions & negative_actual).sum()\n",
    "    fn = (negative_predictions & positive_actual).sum()\n",
    "    score = (t, tp, fp, tn, fn)\n",
    "    scores.append(score)\n",
    "columns = ['threshold', 'tp', 'fp', 'tn', 'fn']\n",
    "df_scores = pd.DataFrame(scores, columns = columns)\n",
    "df_scores['precision'] = df_scores['tp'] / (df_scores['tp'] + df_scores['fp'])\n",
    "df_scores['recall'] = df_scores['tp'] / (df_scores['tp'] + df_scores['fn'])\n",
    "df_scores['fpr'] = df_scores['fp'] / (df_scores['tn'] + df_scores['fp'])\n",
    "df_scores['tpr'] = df_scores['tp'] / (df_scores['tp'] + df_scores['fn'])\n",
    "\n",
    "# plot\n",
    "plt.plot(df_scores['threshold'], df_scores['precision'], label='precision')\n",
    "plt.plot(df_scores['threshold'], df_scores['recall'], label='recall')\n",
    "plt.legend()\n"
   ]
  },
  {
   "cell_type": "markdown",
   "metadata": {},
   "source": [
    "Intercept is on t = 0.3"
   ]
  },
  {
   "cell_type": "code",
   "execution_count": null,
   "metadata": {},
   "outputs": [],
   "source": []
  },
  {
   "cell_type": "markdown",
   "metadata": {},
   "source": [
    "# Question 4"
   ]
  },
  {
   "cell_type": "markdown",
   "metadata": {},
   "source": [
    "Precision and Recall are conflicting - when one grows, the other goes down.  \n",
    "That is why they are often combined into F1 score - metrics that takes both into account"
   ]
  },
  {
   "cell_type": "markdown",
   "metadata": {},
   "source": [
    "F1 score:  \n",
    "$$ F1 = \\frac{2PR}{P+R} $$"
   ]
  },
  {
   "cell_type": "markdown",
   "metadata": {},
   "source": [
    "now we will compute F1 score for all thresholds"
   ]
  },
  {
   "cell_type": "code",
   "execution_count": 91,
   "metadata": {},
   "outputs": [
    {
     "data": {
      "text/plain": [
       "<matplotlib.legend.Legend at 0x191594fe0b0>"
      ]
     },
     "execution_count": 91,
     "metadata": {},
     "output_type": "execute_result"
    },
    {
     "data": {
      "image/png": "[encoded data removed]",
      "text/plain": [
       "<Figure size 432x288 with 1 Axes>"
      ]
     },
     "metadata": {
      "needs_background": "light"
     },
     "output_type": "display_data"
    }
   ],
   "source": [
    "df_scores['f1'] = 2 * df_scores['precision'] * df_scores['recall']\\\n",
    "                  / (df_scores['precision'] + df_scores['recall'])\n",
    "\n",
    "# plot\n",
    "plt.plot(df_scores['threshold'], df_scores['f1'], label='f1')\n",
    "plt.legend()"
   ]
  },
  {
   "cell_type": "markdown",
   "metadata": {},
   "source": [
    "The highest Value of F1 score is at Threshold = 0.4"
   ]
  },
  {
   "cell_type": "code",
   "execution_count": null,
   "metadata": {},
   "outputs": [],
   "source": []
  },
  {
   "cell_type": "markdown",
   "metadata": {},
   "source": [
    "# Question 5"
   ]
  },
  {
   "cell_type": "markdown",
   "metadata": {},
   "source": [
    "Now we will use Kfold class from Scikit-Learn to evaluate our model on 5 different folds:\n",
    "- Iterate over different folds of full_train dataset\n",
    "- split data into train and validation\n",
    "- train the model on train with following parameters of model:\n",
    "    - *LogisticRegression(solver='liblinear', C=1.0, max_iter=1000)*\n",
    "- Use AUC score to evaluate the model on validation"
   ]
  },
  {
   "cell_type": "code",
   "execution_count": 123,
   "metadata": {},
   "outputs": [
    {
     "name": "stdout",
     "output_type": "stream",
     "text": [
      "roc_auc_score = 0.9675387596899225\n",
      "roc_auc_score = 0.984375\n",
      "roc_auc_score = 0.9739789196310935\n",
      "roc_auc_score = 0.9908536585365854\n",
      "roc_auc_score = 1.0\n",
      "\n",
      "Standard Deviation on 5 kfolds = 0.012\n"
     ]
    }
   ],
   "source": [
    "# one-hot encodig:\n",
    "dicts_full_train = df_full_train.to_dict(orient='records')\n",
    "X_full_train = dv.transform(dicts_full_train)\n",
    "roc_auc_scores_list = []\n",
    "\n",
    "# cross validation:\n",
    "kfolds = KFold(n_splits=5, shuffle=True, random_state=1)\n",
    "for train_index, val_index in kfolds.split(df_full_train):\n",
    "    X_train, X_val = X_full_train[train_index], X_full_train[val_index]\n",
    "    y_train, y_val = y_full_train[train_index], y_full_train[val_index]\n",
    "    model = LogisticRegression(solver='liblinear', C=1.0, max_iter=1000)\n",
    "    model.fit(X_train, y_train)\n",
    "    y_pred = model.predict(X_val)\n",
    "    roc_auc_iter = roc_auc_score(y_val, y_pred)\n",
    "    print(f'roc_auc_score = {roc_auc_iter}')\n",
    "    roc_auc_scores_list.append(roc_auc_iter)\n",
    "\n",
    "roc_auc_std_5_folds = np.array(roc_auc_scores_list).std()\n",
    "roc_auc_std_rounded = round(roc_auc_std_5_folds, )\n",
    "print()\n",
    "print(f'Standard Deviation on 5 kfolds = {roc_auc_std_rounded}')"
   ]
  },
  {
   "cell_type": "code",
   "execution_count": null,
   "metadata": {},
   "outputs": [],
   "source": []
  },
  {
   "cell_type": "markdown",
   "metadata": {},
   "source": [
    "# Question 6"
   ]
  },
  {
   "cell_type": "markdown",
   "metadata": {},
   "source": [
    "Now we will use 5-Fold cross-validation to find the best Parameter **C**\n",
    "- Iterate over the following C values: [0.01, 0.1, 1, 10]\n",
    "- Initialize KFold with the same parameters as previously\n",
    "- Use the same model\n",
    "- Compute the mean score as well as STD"
   ]
  },
  {
   "cell_type": "code",
   "execution_count": 126,
   "metadata": {},
   "outputs": [
    {
     "name": "stdout",
     "output_type": "stream",
     "text": [
      "C = 0.01, mean_auc = 0.987, std_auc = 0.007\n",
      "C = 0.1, mean_auc = 0.985, std_auc = 0.01\n",
      "C = 1, mean_auc = 0.983, std_auc = 0.012\n",
      "C = 10, mean_auc = 0.978, std_auc = 0.014\n"
     ]
    }
   ],
   "source": [
    "# C parameter tuning using cross-validation\n",
    "C_test_list = [0.01, 0.1, 1, 10]\n",
    "\n",
    "for C_test in C_test_list:\n",
    "    roc_auc_scores_list = []\n",
    "    kfolds = KFold(n_splits=5, shuffle=True, random_state=1)\n",
    "    for train_index, val_index in kfolds.split(df_full_train):\n",
    "        X_train, X_val = X_full_train[train_index], X_full_train[val_index]\n",
    "        y_train, y_val = y_full_train[train_index], y_full_train[val_index]\n",
    "        model = LogisticRegression(solver='liblinear', C=C_test, max_iter=1000)\n",
    "        model.fit(X_train, y_train)\n",
    "        y_pred = model.predict(X_val)\n",
    "        roc_auc_iter = roc_auc_score(y_val, y_pred)\n",
    "        roc_auc_scores_list.append(roc_auc_iter)\n",
    "        roc_auc_scores_array = np.array(roc_auc_scores_list)\n",
    "        roc_auc_mean = round(roc_auc_scores_array.mean(), 3)\n",
    "        roc_auc_std = round(roc_auc_scores_array.std(), 3)\n",
    "\n",
    "    print(f'C = {C_test}, mean_auc = {roc_auc_mean}, std_auc = {roc_auc_std}')"
   ]
  },
  {
   "cell_type": "markdown",
   "metadata": {},
   "source": [
    "C = 0.01 has highest score and lowest deviation (model is more stable)"
   ]
  },
  {
   "cell_type": "markdown",
   "metadata": {},
   "source": []
  }
 ],
 "metadata": {
  "kernelspec": {
   "display_name": "Python 3.10.4 64-bit",
   "language": "python",
   "name": "python3"
  },
  "language_info": {
   "codemirror_mode": {
    "name": "ipython",
    "version": 3
   },
   "file_extension": ".py",
   "mimetype": "text/x-python",
   "name": "python",
   "nbconvert_exporter": "python",
   "pygments_lexer": "ipython3",
   "version": "3.10.4"
  },
  "orig_nbformat": 4,
  "vscode": {
   "interpreter": {
    "hash": "26de051ba29f2982a8de78e945f0abaf191376122a1563185a90213a26c5da77"
   }
  }
 },
 "nbformat": 4,
 "nbformat_minor": 2
}
