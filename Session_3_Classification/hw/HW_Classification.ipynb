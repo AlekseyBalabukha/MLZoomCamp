{
 "cells": [
  {
   "cell_type": "markdown",
   "metadata": {},
   "source": [
    "# Session 3 Classification"
   ]
  },
  {
   "cell_type": "markdown",
   "metadata": {},
   "source": [
    "In this project we will work with the California Housing Prices data from Kaggle:\n",
    "[Link to Kaggle Dataset](https://www.kaggle.com/datasets/camnugent/california-housing-prices)"
   ]
  },
  {
   "cell_type": "markdown",
   "metadata": {},
   "source": [
    "We will work with the \"midean_house_value\" (house price), however we will transform these data to make it a classification task"
   ]
  },
  {
   "cell_type": "markdown",
   "metadata": {},
   "source": [
    "## Features"
   ]
  },
  {
   "cell_type": "markdown",
   "metadata": {},
   "source": [
    "In this project we will work with the following features:  \n",
    "- 'latitude',\n",
    "- 'longitude',\n",
    "- 'housing_median_age',\n",
    "- 'total_rooms',\n",
    "- 'total_bedrooms',\n",
    "- 'population',\n",
    "- 'households',\n",
    "- 'median_income',\n",
    "- 'median_house_value'\n",
    "- 'ocean_proximity',"
   ]
  },
  {
   "cell_type": "markdown",
   "metadata": {},
   "source": [
    "## Data Preparation"
   ]
  },
  {
   "cell_type": "markdown",
   "metadata": {},
   "source": [
    "- Selecting the features required\n",
    "- Fill missing values with 0\n"
   ]
  },
  {
   "cell_type": "code",
   "execution_count": 2,
   "metadata": {},
   "outputs": [],
   "source": [
    "import pandas as pd\n",
    "import numpy as np\n",
    "\n",
    "from matplotlib import pyplot as plt\n",
    "import seaborn as sns\n",
    "\n",
    "from sklearn.model_selection import train_test_split\n",
    "from sklearn.feature_extraction import DictVectorizer\n",
    "from sklearn.linear_model import LogisticRegression\n",
    "from sklearn.metrics import accuracy_score\n",
    "from sklearn.metrics import mean_squared_error"
   ]
  },
  {
   "cell_type": "code",
   "execution_count": 3,
   "metadata": {},
   "outputs": [
    {
     "data": {
      "text/html": [
       "<div>\n",
       "<style scoped>\n",
       "    .dataframe tbody tr th:only-of-type {\n",
       "        vertical-align: middle;\n",
       "    }\n",
       "\n",
       "    .dataframe tbody tr th {\n",
       "        vertical-align: top;\n",
       "    }\n",
       "\n",
       "    .dataframe thead th {\n",
       "        text-align: right;\n",
       "    }\n",
       "</style>\n",
       "<table border=\"1\" class=\"dataframe\">\n",
       "  <thead>\n",
       "    <tr style=\"text-align: right;\">\n",
       "      <th></th>\n",
       "      <th>latitude</th>\n",
       "      <th>longitude</th>\n",
       "      <th>housing_median_age</th>\n",
       "      <th>total_rooms</th>\n",
       "      <th>total_bedrooms</th>\n",
       "      <th>population</th>\n",
       "      <th>households</th>\n",
       "      <th>median_income</th>\n",
       "      <th>ocean_proximity</th>\n",
       "      <th>median_house_value</th>\n",
       "    </tr>\n",
       "  </thead>\n",
       "  <tbody>\n",
       "    <tr>\n",
       "      <th>0</th>\n",
       "      <td>37.88</td>\n",
       "      <td>-122.23</td>\n",
       "      <td>41.0</td>\n",
       "      <td>880.0</td>\n",
       "      <td>129.0</td>\n",
       "      <td>322.0</td>\n",
       "      <td>126.0</td>\n",
       "      <td>8.3252</td>\n",
       "      <td>near_bay</td>\n",
       "      <td>452600.0</td>\n",
       "    </tr>\n",
       "    <tr>\n",
       "      <th>1</th>\n",
       "      <td>37.86</td>\n",
       "      <td>-122.22</td>\n",
       "      <td>21.0</td>\n",
       "      <td>7099.0</td>\n",
       "      <td>1106.0</td>\n",
       "      <td>2401.0</td>\n",
       "      <td>1138.0</td>\n",
       "      <td>8.3014</td>\n",
       "      <td>near_bay</td>\n",
       "      <td>358500.0</td>\n",
       "    </tr>\n",
       "    <tr>\n",
       "      <th>2</th>\n",
       "      <td>37.85</td>\n",
       "      <td>-122.24</td>\n",
       "      <td>52.0</td>\n",
       "      <td>1467.0</td>\n",
       "      <td>190.0</td>\n",
       "      <td>496.0</td>\n",
       "      <td>177.0</td>\n",
       "      <td>7.2574</td>\n",
       "      <td>near_bay</td>\n",
       "      <td>352100.0</td>\n",
       "    </tr>\n",
       "  </tbody>\n",
       "</table>\n",
       "</div>"
      ],
      "text/plain": [
       "   latitude  longitude  housing_median_age  total_rooms  total_bedrooms  \\\n",
       "0     37.88    -122.23                41.0        880.0           129.0   \n",
       "1     37.86    -122.22                21.0       7099.0          1106.0   \n",
       "2     37.85    -122.24                52.0       1467.0           190.0   \n",
       "\n",
       "   population  households  median_income ocean_proximity  median_house_value  \n",
       "0       322.0       126.0         8.3252        near_bay            452600.0  \n",
       "1      2401.0      1138.0         8.3014        near_bay            358500.0  \n",
       "2       496.0       177.0         7.2574        near_bay            352100.0  "
      ]
     },
     "execution_count": 3,
     "metadata": {},
     "output_type": "execute_result"
    }
   ],
   "source": [
    "df = pd.read_csv('./housing.csv')\n",
    "#df\n",
    "df = df[[\n",
    "    'latitude',\n",
    "    'longitude',\n",
    "    'housing_median_age',\n",
    "    'total_rooms',\n",
    "    'total_bedrooms',\n",
    "    'population',\n",
    "    'households',\n",
    "    'median_income',\n",
    "    'ocean_proximity',\n",
    "    'median_house_value'\n",
    "]]\n",
    "df = df.fillna(0)\n",
    "df_initial = df.copy()\n",
    "\n",
    "# change categorical variables to lower case and _ instead of spaces:\n",
    "df['ocean_proximity'] = df['ocean_proximity'].str.lower().str.replace(' ', '_')\n",
    "df.head(3)\n"
   ]
  },
  {
   "cell_type": "markdown",
   "metadata": {},
   "source": [
    "- Create a new column \"rooms_per_household\": dividing \"total_rooms\" by the column \"households\""
   ]
  },
  {
   "cell_type": "code",
   "execution_count": 4,
   "metadata": {},
   "outputs": [],
   "source": [
    "df['room_per_household'] = df['total_rooms'] / df['households']"
   ]
  },
  {
   "cell_type": "markdown",
   "metadata": {},
   "source": [
    "- Create a new column bedrooms_per_room by dividing the column total_bedrooms by the column total_rooms from dataframe."
   ]
  },
  {
   "cell_type": "code",
   "execution_count": 5,
   "metadata": {},
   "outputs": [],
   "source": [
    "df['bedrooms_per_room'] = df['total_bedrooms'] / df['total_rooms']"
   ]
  },
  {
   "cell_type": "markdown",
   "metadata": {},
   "source": [
    "- Create a new column population_per_household by dividing the column population by the column households from dataframe.\n"
   ]
  },
  {
   "cell_type": "code",
   "execution_count": 6,
   "metadata": {},
   "outputs": [
    {
     "data": {
      "text/html": [
       "<div>\n",
       "<style scoped>\n",
       "    .dataframe tbody tr th:only-of-type {\n",
       "        vertical-align: middle;\n",
       "    }\n",
       "\n",
       "    .dataframe tbody tr th {\n",
       "        vertical-align: top;\n",
       "    }\n",
       "\n",
       "    .dataframe thead th {\n",
       "        text-align: right;\n",
       "    }\n",
       "</style>\n",
       "<table border=\"1\" class=\"dataframe\">\n",
       "  <thead>\n",
       "    <tr style=\"text-align: right;\">\n",
       "      <th></th>\n",
       "      <th>latitude</th>\n",
       "      <th>longitude</th>\n",
       "      <th>housing_median_age</th>\n",
       "      <th>total_rooms</th>\n",
       "      <th>total_bedrooms</th>\n",
       "      <th>population</th>\n",
       "      <th>households</th>\n",
       "      <th>median_income</th>\n",
       "      <th>ocean_proximity</th>\n",
       "      <th>median_house_value</th>\n",
       "      <th>room_per_household</th>\n",
       "      <th>bedrooms_per_room</th>\n",
       "      <th>population_per_household</th>\n",
       "    </tr>\n",
       "  </thead>\n",
       "  <tbody>\n",
       "    <tr>\n",
       "      <th>0</th>\n",
       "      <td>37.88</td>\n",
       "      <td>-122.23</td>\n",
       "      <td>41.0</td>\n",
       "      <td>880.0</td>\n",
       "      <td>129.0</td>\n",
       "      <td>322.0</td>\n",
       "      <td>126.0</td>\n",
       "      <td>8.3252</td>\n",
       "      <td>near_bay</td>\n",
       "      <td>452600.0</td>\n",
       "      <td>6.984127</td>\n",
       "      <td>0.146591</td>\n",
       "      <td>2.555556</td>\n",
       "    </tr>\n",
       "    <tr>\n",
       "      <th>1</th>\n",
       "      <td>37.86</td>\n",
       "      <td>-122.22</td>\n",
       "      <td>21.0</td>\n",
       "      <td>7099.0</td>\n",
       "      <td>1106.0</td>\n",
       "      <td>2401.0</td>\n",
       "      <td>1138.0</td>\n",
       "      <td>8.3014</td>\n",
       "      <td>near_bay</td>\n",
       "      <td>358500.0</td>\n",
       "      <td>6.238137</td>\n",
       "      <td>0.155797</td>\n",
       "      <td>2.109842</td>\n",
       "    </tr>\n",
       "  </tbody>\n",
       "</table>\n",
       "</div>"
      ],
      "text/plain": [
       "   latitude  longitude  housing_median_age  total_rooms  total_bedrooms  \\\n",
       "0     37.88    -122.23                41.0        880.0           129.0   \n",
       "1     37.86    -122.22                21.0       7099.0          1106.0   \n",
       "\n",
       "   population  households  median_income ocean_proximity  median_house_value  \\\n",
       "0       322.0       126.0         8.3252        near_bay            452600.0   \n",
       "1      2401.0      1138.0         8.3014        near_bay            358500.0   \n",
       "\n",
       "   room_per_household  bedrooms_per_room  population_per_household  \n",
       "0            6.984127           0.146591                  2.555556  \n",
       "1            6.238137           0.155797                  2.109842  "
      ]
     },
     "execution_count": 6,
     "metadata": {},
     "output_type": "execute_result"
    }
   ],
   "source": [
    "df['population_per_household'] = df['population'] / df['households']\n",
    "df.head(2)"
   ]
  },
  {
   "cell_type": "markdown",
   "metadata": {},
   "source": [
    "# Question 1:  \n",
    "What is the most frequent observation (mode) for the column \"ocean_proximity\"?"
   ]
  },
  {
   "cell_type": "code",
   "execution_count": 7,
   "metadata": {},
   "outputs": [
    {
     "data": {
      "text/plain": [
       "<1h_ocean     9136\n",
       "inland        6551\n",
       "near_ocean    2658\n",
       "near_bay      2290\n",
       "island           5\n",
       "Name: ocean_proximity, dtype: int64"
      ]
     },
     "execution_count": 7,
     "metadata": {},
     "output_type": "execute_result"
    }
   ],
   "source": [
    "df['ocean_proximity'].value_counts().sort_values(ascending=False)"
   ]
  },
  {
   "cell_type": "code",
   "execution_count": 8,
   "metadata": {},
   "outputs": [
    {
     "name": "stdout",
     "output_type": "stream",
     "text": [
      "Mode of \"ocean_proximity\" feature is:   <1h_ocean    9136\n",
      "Name: ocean_proximity, dtype: int64\n"
     ]
    }
   ],
   "source": [
    "print(f'Mode of \"ocean_proximity\" feature is:   {df.ocean_proximity.value_counts().sort_values(ascending=False).head(1)}')"
   ]
  },
  {
   "cell_type": "markdown",
   "metadata": {},
   "source": [
    "## Data Splitting"
   ]
  },
  {
   "cell_type": "markdown",
   "metadata": {},
   "source": [
    "- We will split data in train/validation/test sets by 60/20/20% distribution (using sklean train_test_split and ransom_state=42)\n",
    "- Split Target variable (\"median_house_value\")"
   ]
  },
  {
   "cell_type": "code",
   "execution_count": 9,
   "metadata": {},
   "outputs": [
    {
     "data": {
      "text/plain": [
       "20640"
      ]
     },
     "execution_count": 9,
     "metadata": {},
     "output_type": "execute_result"
    }
   ],
   "source": [
    "len(df)"
   ]
  },
  {
   "cell_type": "code",
   "execution_count": 10,
   "metadata": {},
   "outputs": [
    {
     "name": "stdout",
     "output_type": "stream",
     "text": [
      "N_intital = 20640\n",
      "N_full_train = 16512\n",
      "N_test = 4128\n",
      "N_train = 12384\n",
      "N_val = 4128\n",
      "Test_sum (tran+val+test) = 20640\n"
     ]
    }
   ],
   "source": [
    "# data splitting:\n",
    "df_full_train, df_test = train_test_split(df, test_size=0.2, random_state=42)\n",
    "df_train, df_val = train_test_split(df_full_train, test_size=0.25, random_state=42)\n",
    "\n",
    "n = len(df)\n",
    "n_full_train = len(df_full_train)\n",
    "n_test = len(df_test)\n",
    "n_train = len(df_train)\n",
    "n_val = len(df_val)\n",
    "\n",
    "print(f'N_intital = {n}')\n",
    "print(f'N_full_train = {n_full_train}')\n",
    "print(f'N_test = {n_test}')\n",
    "print(f'N_train = {n_train}')\n",
    "print(f'N_val = {n_val}')\n",
    "print(f'Test_sum (tran+val+test) = {n_train + n_val + n_test}')"
   ]
  },
  {
   "cell_type": "code",
   "execution_count": 11,
   "metadata": {},
   "outputs": [],
   "source": [
    "# separate target variable from datasets:\n",
    "y_full_train = df_full_train['median_house_value'].values\n",
    "y_test = df_test['median_house_value'].values\n",
    "y_train = df_train['median_house_value'].values\n",
    "y_val = df_val['median_house_value'].values\n",
    "\n",
    "del df_full_train['median_house_value']\n",
    "del df_test['median_house_value']\n",
    "del df_train['median_house_value']\n",
    "del df_val['median_house_value']"
   ]
  },
  {
   "cell_type": "markdown",
   "metadata": {},
   "source": [
    "# Question 2:"
   ]
  },
  {
   "cell_type": "markdown",
   "metadata": {},
   "source": [
    "- Create correlation matrix for the numerical features of train dataset\n",
    "    - In a correlation matrix, we will compute the correlation coefficient between every pair of features in the dataset\n",
    "- What are the 2 features that have the biggest correlation in this dataset?"
   ]
  },
  {
   "cell_type": "code",
   "execution_count": 12,
   "metadata": {},
   "outputs": [
    {
     "data": {
      "text/plain": [
       "total_bedrooms    0.979399\n",
       "households        0.979399\n",
       "dtype: float64"
      ]
     },
     "execution_count": 12,
     "metadata": {},
     "output_type": "execute_result"
    }
   ],
   "source": [
    "corr_matrix_train = df_train.corr()[df_train.corr() != 1]\n",
    "corr_matrix_train.max().sort_values(ascending=False).head(2)"
   ]
  },
  {
   "cell_type": "markdown",
   "metadata": {},
   "source": [
    "### Making Target feature into Binary feature"
   ]
  },
  {
   "cell_type": "markdown",
   "metadata": {},
   "source": [
    "- We need to turn the median_house_value variable from numeric into binary.\n",
    "- Let's create a variable above_average which is 1 if the median_house_value is above its mean value and 0 otherwise."
   ]
  },
  {
   "cell_type": "code",
   "execution_count": 13,
   "metadata": {},
   "outputs": [],
   "source": [
    "# create binary target classes:\n",
    "mean_train = y_train.mean()\n",
    "mean_val = y_val.mean()\n",
    "mean_test = y_test.mean()\n",
    "mean_full_train = y_full_train.mean()\n",
    "mean_initial = df['median_house_value'].mean()\n",
    "\n",
    "#print(f'mean_train = {mean_train}')\n",
    "#print(f'mean_val = {mean_val}')\n",
    "#print(f'mean_test = {mean_test}')\n",
    "#print(f'mean_full_train = {mean_full_train}')\n",
    "#print(f'mean_initial = {mean_initial}')\n",
    "\n",
    "# we will use mean_initial (on the whole dataset as Threshold):\n",
    "above_average_train = (y_train > mean_initial).astype(int)\n",
    "above_average_val = (y_val > mean_initial).astype(int)\n",
    "above_average_test = (y_test > mean_initial).astype(int)\n",
    "above_average_full_train = (y_full_train > mean_initial).astype(int)"
   ]
  },
  {
   "cell_type": "markdown",
   "metadata": {},
   "source": [
    "# Question 3\n",
    "- Calculate the mutual information score with the (binarized) price for the categorical variable that we have. Use the training set only."
   ]
  },
  {
   "cell_type": "code",
   "execution_count": 14,
   "metadata": {},
   "outputs": [],
   "source": [
    "from sklearn.metrics import mutual_info_score"
   ]
  },
  {
   "cell_type": "code",
   "execution_count": 15,
   "metadata": {},
   "outputs": [
    {
     "data": {
      "text/plain": [
       "0.101"
      ]
     },
     "execution_count": 15,
     "metadata": {},
     "output_type": "execute_result"
    }
   ],
   "source": [
    "score = mutual_info_score(df_train['ocean_proximity'], above_average_train)\n",
    "score = round(score, 3)\n",
    "score"
   ]
  },
  {
   "cell_type": "markdown",
   "metadata": {},
   "source": [
    "# Question 4"
   ]
  },
  {
   "cell_type": "markdown",
   "metadata": {},
   "source": [
    "- Now let's train a logistic regression\n",
    "- For Categorical variable we will use One-hot encoding\n",
    "- To make sure that the results are reproducible we will use the following model parameters:\n",
    "    - model = LogisticRegression(solver=\"liblinear\", C=1.0, max_iter=1000, random_state=42)\n",
    "- Then we will measure the Accuracy of the model on the validation dataset"
   ]
  },
  {
   "cell_type": "code",
   "execution_count": 16,
   "metadata": {},
   "outputs": [],
   "source": [
    "# one-hot encoding of categorical variable:\n",
    "dv = DictVectorizer(sparse=False)\n",
    "\n",
    "# convert all datasets into dictionaries:\n",
    "dicts_train = df_train.to_dict(orient='records')\n",
    "dicts_val = df_val.to_dict(orient='records')\n",
    "dicts_test = df_test.to_dict(orient='records')\n",
    "# prepare features_matrices:\n",
    "X_train = dv.fit_transform(dicts_train)\n",
    "X_val = dv.transform(dicts_val)\n",
    "X_test = dv.transform(dicts_test)"
   ]
  },
  {
   "cell_type": "code",
   "execution_count": 17,
   "metadata": {},
   "outputs": [
    {
     "name": "stdout",
     "output_type": "stream",
     "text": [
      " accuracy =  0.84\n"
     ]
    }
   ],
   "source": [
    "# train LogisticRegression model:\n",
    "model = LogisticRegression(solver='liblinear', C=1.0, max_iter=1000, random_state=42)\n",
    "model.fit(X_train, above_average_train)\n",
    "# make predictions on the Validation dataset:\n",
    "y_pred = model.predict(X_val)\n",
    "# calculate accuracy:\n",
    "initial_accuracy = accuracy_score(above_average_val, y_pred)\n",
    "print(f' accuracy =  {round(accuracy_score(above_average_val, y_pred), 2)}')"
   ]
  },
  {
   "cell_type": "markdown",
   "metadata": {},
   "source": [
    "# Question 5:"
   ]
  },
  {
   "cell_type": "markdown",
   "metadata": {},
   "source": [
    "- Let's find the least useful feature using the **feature elimination technique**.\n",
    "- We will use Train a model with all features\n",
    "- Then, we will exclude each feature from train dataset (1 feature at a time)\n",
    "- Then for each feature we will compare difference in accuracy with Original Accuracy (model with all features)"
   ]
  },
  {
   "cell_type": "code",
   "execution_count": 18,
   "metadata": {},
   "outputs": [
    {
     "data": {
      "text/html": [
       "<div>\n",
       "<style scoped>\n",
       "    .dataframe tbody tr th:only-of-type {\n",
       "        vertical-align: middle;\n",
       "    }\n",
       "\n",
       "    .dataframe tbody tr th {\n",
       "        vertical-align: top;\n",
       "    }\n",
       "\n",
       "    .dataframe thead th {\n",
       "        text-align: right;\n",
       "    }\n",
       "</style>\n",
       "<table border=\"1\" class=\"dataframe\">\n",
       "  <thead>\n",
       "    <tr style=\"text-align: right;\">\n",
       "      <th></th>\n",
       "      <th>latitude</th>\n",
       "      <th>housing_median_age</th>\n",
       "      <th>total_rooms</th>\n",
       "      <th>total_bedrooms</th>\n",
       "      <th>population</th>\n",
       "      <th>households</th>\n",
       "      <th>median_income</th>\n",
       "      <th>ocean_proximity</th>\n",
       "      <th>room_per_household</th>\n",
       "      <th>bedrooms_per_room</th>\n",
       "      <th>population_per_household</th>\n",
       "    </tr>\n",
       "  </thead>\n",
       "  <tbody>\n",
       "    <tr>\n",
       "      <th>20046</th>\n",
       "      <td>36.06</td>\n",
       "      <td>25.0</td>\n",
       "      <td>1505.0</td>\n",
       "      <td>0.0</td>\n",
       "      <td>1392.0</td>\n",
       "      <td>359.0</td>\n",
       "      <td>1.6812</td>\n",
       "      <td>inland</td>\n",
       "      <td>4.192201</td>\n",
       "      <td>0.000000</td>\n",
       "      <td>3.877437</td>\n",
       "    </tr>\n",
       "    <tr>\n",
       "      <th>3024</th>\n",
       "      <td>35.14</td>\n",
       "      <td>30.0</td>\n",
       "      <td>2943.0</td>\n",
       "      <td>0.0</td>\n",
       "      <td>1565.0</td>\n",
       "      <td>584.0</td>\n",
       "      <td>2.5313</td>\n",
       "      <td>inland</td>\n",
       "      <td>5.039384</td>\n",
       "      <td>0.000000</td>\n",
       "      <td>2.679795</td>\n",
       "    </tr>\n",
       "    <tr>\n",
       "      <th>15663</th>\n",
       "      <td>37.80</td>\n",
       "      <td>52.0</td>\n",
       "      <td>3830.0</td>\n",
       "      <td>0.0</td>\n",
       "      <td>1310.0</td>\n",
       "      <td>963.0</td>\n",
       "      <td>3.4801</td>\n",
       "      <td>near_bay</td>\n",
       "      <td>3.977155</td>\n",
       "      <td>0.000000</td>\n",
       "      <td>1.360332</td>\n",
       "    </tr>\n",
       "    <tr>\n",
       "      <th>20484</th>\n",
       "      <td>34.28</td>\n",
       "      <td>17.0</td>\n",
       "      <td>3051.0</td>\n",
       "      <td>0.0</td>\n",
       "      <td>1705.0</td>\n",
       "      <td>495.0</td>\n",
       "      <td>5.7376</td>\n",
       "      <td>&lt;1h_ocean</td>\n",
       "      <td>6.163636</td>\n",
       "      <td>0.000000</td>\n",
       "      <td>3.444444</td>\n",
       "    </tr>\n",
       "    <tr>\n",
       "      <th>9814</th>\n",
       "      <td>36.62</td>\n",
       "      <td>34.0</td>\n",
       "      <td>2351.0</td>\n",
       "      <td>0.0</td>\n",
       "      <td>1063.0</td>\n",
       "      <td>428.0</td>\n",
       "      <td>3.7250</td>\n",
       "      <td>near_ocean</td>\n",
       "      <td>5.492991</td>\n",
       "      <td>0.000000</td>\n",
       "      <td>2.483645</td>\n",
       "    </tr>\n",
       "    <tr>\n",
       "      <th>...</th>\n",
       "      <td>...</td>\n",
       "      <td>...</td>\n",
       "      <td>...</td>\n",
       "      <td>...</td>\n",
       "      <td>...</td>\n",
       "      <td>...</td>\n",
       "      <td>...</td>\n",
       "      <td>...</td>\n",
       "      <td>...</td>\n",
       "      <td>...</td>\n",
       "      <td>...</td>\n",
       "    </tr>\n",
       "    <tr>\n",
       "      <th>15362</th>\n",
       "      <td>33.36</td>\n",
       "      <td>16.0</td>\n",
       "      <td>3165.0</td>\n",
       "      <td>482.0</td>\n",
       "      <td>1351.0</td>\n",
       "      <td>452.0</td>\n",
       "      <td>4.6050</td>\n",
       "      <td>&lt;1h_ocean</td>\n",
       "      <td>7.002212</td>\n",
       "      <td>0.152291</td>\n",
       "      <td>2.988938</td>\n",
       "    </tr>\n",
       "    <tr>\n",
       "      <th>16623</th>\n",
       "      <td>35.36</td>\n",
       "      <td>28.0</td>\n",
       "      <td>4323.0</td>\n",
       "      <td>886.0</td>\n",
       "      <td>1650.0</td>\n",
       "      <td>705.0</td>\n",
       "      <td>2.7266</td>\n",
       "      <td>near_ocean</td>\n",
       "      <td>6.131915</td>\n",
       "      <td>0.204950</td>\n",
       "      <td>2.340426</td>\n",
       "    </tr>\n",
       "    <tr>\n",
       "      <th>18086</th>\n",
       "      <td>37.31</td>\n",
       "      <td>25.0</td>\n",
       "      <td>4111.0</td>\n",
       "      <td>538.0</td>\n",
       "      <td>1585.0</td>\n",
       "      <td>568.0</td>\n",
       "      <td>9.2298</td>\n",
       "      <td>&lt;1h_ocean</td>\n",
       "      <td>7.237676</td>\n",
       "      <td>0.130868</td>\n",
       "      <td>2.790493</td>\n",
       "    </tr>\n",
       "    <tr>\n",
       "      <th>2144</th>\n",
       "      <td>36.77</td>\n",
       "      <td>36.0</td>\n",
       "      <td>2507.0</td>\n",
       "      <td>466.0</td>\n",
       "      <td>1227.0</td>\n",
       "      <td>474.0</td>\n",
       "      <td>2.7850</td>\n",
       "      <td>inland</td>\n",
       "      <td>5.289030</td>\n",
       "      <td>0.185880</td>\n",
       "      <td>2.588608</td>\n",
       "    </tr>\n",
       "    <tr>\n",
       "      <th>3665</th>\n",
       "      <td>34.22</td>\n",
       "      <td>17.0</td>\n",
       "      <td>1787.0</td>\n",
       "      <td>463.0</td>\n",
       "      <td>1671.0</td>\n",
       "      <td>448.0</td>\n",
       "      <td>3.5521</td>\n",
       "      <td>&lt;1h_ocean</td>\n",
       "      <td>3.988839</td>\n",
       "      <td>0.259093</td>\n",
       "      <td>3.729911</td>\n",
       "    </tr>\n",
       "  </tbody>\n",
       "</table>\n",
       "<p>4128 rows × 11 columns</p>\n",
       "</div>"
      ],
      "text/plain": [
       "       latitude  housing_median_age  total_rooms  total_bedrooms  population  \\\n",
       "20046     36.06                25.0       1505.0             0.0      1392.0   \n",
       "3024      35.14                30.0       2943.0             0.0      1565.0   \n",
       "15663     37.80                52.0       3830.0             0.0      1310.0   \n",
       "20484     34.28                17.0       3051.0             0.0      1705.0   \n",
       "9814      36.62                34.0       2351.0             0.0      1063.0   \n",
       "...         ...                 ...          ...             ...         ...   \n",
       "15362     33.36                16.0       3165.0           482.0      1351.0   \n",
       "16623     35.36                28.0       4323.0           886.0      1650.0   \n",
       "18086     37.31                25.0       4111.0           538.0      1585.0   \n",
       "2144      36.77                36.0       2507.0           466.0      1227.0   \n",
       "3665      34.22                17.0       1787.0           463.0      1671.0   \n",
       "\n",
       "       households  median_income ocean_proximity  room_per_household  \\\n",
       "20046       359.0         1.6812          inland            4.192201   \n",
       "3024        584.0         2.5313          inland            5.039384   \n",
       "15663       963.0         3.4801        near_bay            3.977155   \n",
       "20484       495.0         5.7376       <1h_ocean            6.163636   \n",
       "9814        428.0         3.7250      near_ocean            5.492991   \n",
       "...           ...            ...             ...                 ...   \n",
       "15362       452.0         4.6050       <1h_ocean            7.002212   \n",
       "16623       705.0         2.7266      near_ocean            6.131915   \n",
       "18086       568.0         9.2298       <1h_ocean            7.237676   \n",
       "2144        474.0         2.7850          inland            5.289030   \n",
       "3665        448.0         3.5521       <1h_ocean            3.988839   \n",
       "\n",
       "       bedrooms_per_room  population_per_household  \n",
       "20046           0.000000                  3.877437  \n",
       "3024            0.000000                  2.679795  \n",
       "15663           0.000000                  1.360332  \n",
       "20484           0.000000                  3.444444  \n",
       "9814            0.000000                  2.483645  \n",
       "...                  ...                       ...  \n",
       "15362           0.152291                  2.988938  \n",
       "16623           0.204950                  2.340426  \n",
       "18086           0.130868                  2.790493  \n",
       "2144            0.185880                  2.588608  \n",
       "3665            0.259093                  3.729911  \n",
       "\n",
       "[4128 rows x 11 columns]"
      ]
     },
     "execution_count": 18,
     "metadata": {},
     "output_type": "execute_result"
    }
   ],
   "source": [
    "df_test_try = df_test.copy()\n",
    "df_test_try = df_test_try.drop(columns=['longitude'])\n",
    "df_test_try"
   ]
  },
  {
   "cell_type": "code",
   "execution_count": 19,
   "metadata": {},
   "outputs": [],
   "source": [
    "def analyse_model_without_feature(feature_exclude, df_train, df_val, df_test):\n",
    "    print(f'we study {feature_exclude}')\n",
    "    df_train = df_train.copy()\n",
    "    df_val = df_val.copy()\n",
    "    df_test = df_test.copy()\n",
    "    # drop studied feature:\n",
    "    df_train = df_train.drop(columns=[feature_exclude])\n",
    "    df_val = df_val.drop(columns=[feature_exclude])\n",
    "    df_test = df_test.drop(columns=[feature_exclude])\n",
    "    dicts_train = df_train.to_dict(orient='records')\n",
    "    dicts_val = df_val.to_dict(orient='records')\n",
    "    dicts_test = df_test.to_dict(orient='records')\n",
    "    X_train = dv.fit_transform(dicts_train)\n",
    "    X_val = dv.transform(dicts_val)\n",
    "    X_test = dv.transform(dicts_test)\n",
    "    model = LogisticRegression(solver='liblinear', C=1.0, max_iter=1000, random_state=42)\n",
    "    model.fit(X_train, above_average_train)\n",
    "    y_pred = model.predict(X_val)\n",
    "    accuracy_iter = accuracy_score(above_average_val, y_pred)\n",
    "    print(f' accuracy without {feature_exclude} =  {round(accuracy_score(above_average_val, y_pred), 3)}')\n",
    "    return accuracy_iter"
   ]
  },
  {
   "cell_type": "code",
   "execution_count": 20,
   "metadata": {},
   "outputs": [
    {
     "name": "stdout",
     "output_type": "stream",
     "text": [
      "we study latitude\n",
      " accuracy without latitude =  0.834\n",
      "difference = 0.0021802325581395943\n",
      "\n",
      "we study longitude\n",
      " accuracy without longitude =  0.833\n",
      "difference = 0.0031492248062016115\n",
      "\n",
      "we study housing_median_age\n",
      " accuracy without housing_median_age =  0.831\n",
      "difference = 0.005329457364341095\n",
      "\n",
      "we study total_rooms\n",
      " accuracy without total_rooms =  0.836\n",
      "difference = -0.0002422480620154488\n",
      "\n",
      "we study total_bedrooms\n",
      " accuracy without total_bedrooms =  0.835\n",
      "difference = 0.0009689922480620172\n",
      "\n",
      "we study population\n",
      " accuracy without population =  0.826\n",
      "difference = 0.009932170542635732\n",
      "\n",
      "we study households\n",
      " accuracy without households =  0.833\n",
      "difference = 0.0029069767441860517\n",
      "\n",
      "we study median_income\n",
      " accuracy without median_income =  0.786\n",
      "difference = 0.04990310077519389\n",
      "\n",
      "we study ocean_proximity\n",
      " accuracy without ocean_proximity =  0.82\n",
      "difference = 0.015988372093023284\n",
      "\n",
      "we study room_per_household\n",
      " accuracy without room_per_household =  0.836\n",
      "difference = -0.0002422480620154488\n",
      "\n",
      "we study bedrooms_per_room\n",
      " accuracy without bedrooms_per_room =  0.836\n",
      "difference = 0.0\n",
      "\n",
      "we study population_per_household\n",
      " accuracy without population_per_household =  0.836\n",
      "difference = 0.0004844961240310086\n",
      "\n"
     ]
    }
   ],
   "source": [
    "features = []\n",
    "accuracies = []\n",
    "differences = []\n",
    "for feature in df_train.columns:\n",
    "    features.append(feature)\n",
    "    accuracy_iter = analyse_model_without_feature(feature, df_train, df_val, df_test)\n",
    "    accuracies.append(accuracy_iter)\n",
    "    difference_iter = initial_accuracy - accuracy_iter\n",
    "    differences.append(difference_iter)\n",
    "    print(f'difference = {difference_iter}')\n",
    "    print()"
   ]
  },
  {
   "cell_type": "code",
   "execution_count": 21,
   "metadata": {},
   "outputs": [
    {
     "data": {
      "text/html": [
       "<div>\n",
       "<style scoped>\n",
       "    .dataframe tbody tr th:only-of-type {\n",
       "        vertical-align: middle;\n",
       "    }\n",
       "\n",
       "    .dataframe tbody tr th {\n",
       "        vertical-align: top;\n",
       "    }\n",
       "\n",
       "    .dataframe thead th {\n",
       "        text-align: right;\n",
       "    }\n",
       "</style>\n",
       "<table border=\"1\" class=\"dataframe\">\n",
       "  <thead>\n",
       "    <tr style=\"text-align: right;\">\n",
       "      <th></th>\n",
       "      <th>feature</th>\n",
       "      <th>accuracy_initial</th>\n",
       "      <th>accuracy</th>\n",
       "      <th>difference</th>\n",
       "      <th>abs_difference</th>\n",
       "    </tr>\n",
       "  </thead>\n",
       "  <tbody>\n",
       "    <tr>\n",
       "      <th>10</th>\n",
       "      <td>bedrooms_per_room</td>\n",
       "      <td>0.83624</td>\n",
       "      <td>0.836240</td>\n",
       "      <td>0.000000</td>\n",
       "      <td>0.000000</td>\n",
       "    </tr>\n",
       "    <tr>\n",
       "      <th>3</th>\n",
       "      <td>total_rooms</td>\n",
       "      <td>0.83624</td>\n",
       "      <td>0.836483</td>\n",
       "      <td>-0.000242</td>\n",
       "      <td>0.000242</td>\n",
       "    </tr>\n",
       "    <tr>\n",
       "      <th>9</th>\n",
       "      <td>room_per_household</td>\n",
       "      <td>0.83624</td>\n",
       "      <td>0.836483</td>\n",
       "      <td>-0.000242</td>\n",
       "      <td>0.000242</td>\n",
       "    </tr>\n",
       "    <tr>\n",
       "      <th>11</th>\n",
       "      <td>population_per_household</td>\n",
       "      <td>0.83624</td>\n",
       "      <td>0.835756</td>\n",
       "      <td>0.000484</td>\n",
       "      <td>0.000484</td>\n",
       "    </tr>\n",
       "    <tr>\n",
       "      <th>4</th>\n",
       "      <td>total_bedrooms</td>\n",
       "      <td>0.83624</td>\n",
       "      <td>0.835271</td>\n",
       "      <td>0.000969</td>\n",
       "      <td>0.000969</td>\n",
       "    </tr>\n",
       "    <tr>\n",
       "      <th>0</th>\n",
       "      <td>latitude</td>\n",
       "      <td>0.83624</td>\n",
       "      <td>0.834060</td>\n",
       "      <td>0.002180</td>\n",
       "      <td>0.002180</td>\n",
       "    </tr>\n",
       "    <tr>\n",
       "      <th>6</th>\n",
       "      <td>households</td>\n",
       "      <td>0.83624</td>\n",
       "      <td>0.833333</td>\n",
       "      <td>0.002907</td>\n",
       "      <td>0.002907</td>\n",
       "    </tr>\n",
       "    <tr>\n",
       "      <th>1</th>\n",
       "      <td>longitude</td>\n",
       "      <td>0.83624</td>\n",
       "      <td>0.833091</td>\n",
       "      <td>0.003149</td>\n",
       "      <td>0.003149</td>\n",
       "    </tr>\n",
       "    <tr>\n",
       "      <th>2</th>\n",
       "      <td>housing_median_age</td>\n",
       "      <td>0.83624</td>\n",
       "      <td>0.830911</td>\n",
       "      <td>0.005329</td>\n",
       "      <td>0.005329</td>\n",
       "    </tr>\n",
       "    <tr>\n",
       "      <th>5</th>\n",
       "      <td>population</td>\n",
       "      <td>0.83624</td>\n",
       "      <td>0.826308</td>\n",
       "      <td>0.009932</td>\n",
       "      <td>0.009932</td>\n",
       "    </tr>\n",
       "    <tr>\n",
       "      <th>8</th>\n",
       "      <td>ocean_proximity</td>\n",
       "      <td>0.83624</td>\n",
       "      <td>0.820252</td>\n",
       "      <td>0.015988</td>\n",
       "      <td>0.015988</td>\n",
       "    </tr>\n",
       "    <tr>\n",
       "      <th>7</th>\n",
       "      <td>median_income</td>\n",
       "      <td>0.83624</td>\n",
       "      <td>0.786337</td>\n",
       "      <td>0.049903</td>\n",
       "      <td>0.049903</td>\n",
       "    </tr>\n",
       "  </tbody>\n",
       "</table>\n",
       "</div>"
      ],
      "text/plain": [
       "                     feature  accuracy_initial  accuracy  difference  \\\n",
       "10         bedrooms_per_room           0.83624  0.836240    0.000000   \n",
       "3                total_rooms           0.83624  0.836483   -0.000242   \n",
       "9         room_per_household           0.83624  0.836483   -0.000242   \n",
       "11  population_per_household           0.83624  0.835756    0.000484   \n",
       "4             total_bedrooms           0.83624  0.835271    0.000969   \n",
       "0                   latitude           0.83624  0.834060    0.002180   \n",
       "6                 households           0.83624  0.833333    0.002907   \n",
       "1                  longitude           0.83624  0.833091    0.003149   \n",
       "2         housing_median_age           0.83624  0.830911    0.005329   \n",
       "5                 population           0.83624  0.826308    0.009932   \n",
       "8            ocean_proximity           0.83624  0.820252    0.015988   \n",
       "7              median_income           0.83624  0.786337    0.049903   \n",
       "\n",
       "    abs_difference  \n",
       "10        0.000000  \n",
       "3         0.000242  \n",
       "9         0.000242  \n",
       "11        0.000484  \n",
       "4         0.000969  \n",
       "0         0.002180  \n",
       "6         0.002907  \n",
       "1         0.003149  \n",
       "2         0.005329  \n",
       "5         0.009932  \n",
       "8         0.015988  \n",
       "7         0.049903  "
      ]
     },
     "execution_count": 21,
     "metadata": {},
     "output_type": "execute_result"
    }
   ],
   "source": [
    "# put data into df for analysis:\n",
    "df_analysis = pd.DataFrame({\n",
    "    'feature': features,\n",
    "    'accuracy': accuracies,\n",
    "    'difference': differences\n",
    "})\n",
    "df_analysis['abs_difference'] = df_analysis['difference'].abs()\n",
    "df_analysis['accuracy_initial'] = initial_accuracy\n",
    "df_analysis = df_analysis[['feature', 'accuracy_initial', 'accuracy', 'difference', 'abs_difference']]\n",
    "df_analysis.sort_values(by='abs_difference')"
   ]
  },
  {
   "cell_type": "code",
   "execution_count": 22,
   "metadata": {},
   "outputs": [
    {
     "name": "stdout",
     "output_type": "stream",
     "text": [
      "total_rooms\n"
     ]
    }
   ],
   "source": [
    "print('total_rooms')"
   ]
  },
  {
   "cell_type": "markdown",
   "metadata": {},
   "source": [
    "# Question 6:  \n",
    "- Here we will test \"alpha\" parameter of Ridge Linear Regression Model from sklearn (regularization strength)\n",
    "- We will use original \"median_house_value\" target parameter in Log scale\n",
    "- We will test Ridge Regression model (Linear Regression with regularization)"
   ]
  },
  {
   "cell_type": "code",
   "execution_count": 32,
   "metadata": {},
   "outputs": [],
   "source": [
    "# target variable transformation:\n",
    "y_train_log = np.log1p(y_train)\n",
    "y_val_log = np.log1p(y_val)"
   ]
  },
  {
   "cell_type": "code",
   "execution_count": 43,
   "metadata": {},
   "outputs": [
    {
     "name": "stdout",
     "output_type": "stream",
     "text": [
      "alpha_test = 0, RMSE = 0.52406\n"
     ]
    }
   ],
   "source": [
    "from sklearn.linear_model import Ridge\n",
    "\n",
    "# parameters of Ridge model:\n",
    "alpha_test = 0\n",
    "list_of_alphas = [0, 0.01, 0.1, 1, 10]\n",
    "model = Ridge(alpha=alpha_test, solver=\"sag\", random_state=42)\n",
    "#fit model:\n",
    "model.fit(X_train, y_train_log)\n",
    "# make predictions on validation data:\n",
    "y_pred = model.predict(X_val)\n",
    "# calc RMSE:\n",
    "rmse_score = mean_squared_error(y_val_log, y_pred, squared=False) #squared: If True returns MSE value, if False returns RMSE value.\n",
    "print(f'alpha_test = {alpha_test}, RMSE = {round(rmse_score, 5)}')"
   ]
  },
  {
   "cell_type": "code",
   "execution_count": 39,
   "metadata": {},
   "outputs": [],
   "source": [
    "def test_alpha_ridge(alpha_test):\n",
    "    model = Ridge(alpha=alpha_test, solver=\"sag\", random_state=42)\n",
    "    model.fit(X_train, y_train_log)\n",
    "    y_pred = model.predict(X_val)\n",
    "    rmse_score = mean_squared_error(y_val_log, y_pred, squared=False)\n",
    "    rmse_score = round(rmse_score, 5)\n",
    "    print(f'alpha_test = {alpha_test}, RMSE = {rmse_score}')\n",
    "    return rmse_score"
   ]
  },
  {
   "cell_type": "code",
   "execution_count": 40,
   "metadata": {},
   "outputs": [
    {
     "name": "stdout",
     "output_type": "stream",
     "text": [
      "alpha_test = 0, RMSE = 0.52406\n",
      "alpha_test = 0.01, RMSE = 0.52406\n",
      "alpha_test = 0.1, RMSE = 0.52406\n",
      "alpha_test = 1, RMSE = 0.52406\n",
      "alpha_test = 10, RMSE = 0.52406\n"
     ]
    }
   ],
   "source": [
    "rmse_scores_list = []\n",
    "for alpha_test in list_of_alphas:\n",
    "    rmse_score = test_alpha_ridge(alpha_test)\n",
    "    rmse_scores_list.append(rmse_score)"
   ]
  },
  {
   "cell_type": "code",
   "execution_count": 41,
   "metadata": {},
   "outputs": [
    {
     "data": {
      "text/html": [
       "<div>\n",
       "<style scoped>\n",
       "    .dataframe tbody tr th:only-of-type {\n",
       "        vertical-align: middle;\n",
       "    }\n",
       "\n",
       "    .dataframe tbody tr th {\n",
       "        vertical-align: top;\n",
       "    }\n",
       "\n",
       "    .dataframe thead th {\n",
       "        text-align: right;\n",
       "    }\n",
       "</style>\n",
       "<table border=\"1\" class=\"dataframe\">\n",
       "  <thead>\n",
       "    <tr style=\"text-align: right;\">\n",
       "      <th></th>\n",
       "      <th>alpha_test</th>\n",
       "      <th>rmse_score</th>\n",
       "    </tr>\n",
       "  </thead>\n",
       "  <tbody>\n",
       "    <tr>\n",
       "      <th>0</th>\n",
       "      <td>0.00</td>\n",
       "      <td>0.52406</td>\n",
       "    </tr>\n",
       "    <tr>\n",
       "      <th>1</th>\n",
       "      <td>0.01</td>\n",
       "      <td>0.52406</td>\n",
       "    </tr>\n",
       "    <tr>\n",
       "      <th>2</th>\n",
       "      <td>0.10</td>\n",
       "      <td>0.52406</td>\n",
       "    </tr>\n",
       "    <tr>\n",
       "      <th>3</th>\n",
       "      <td>1.00</td>\n",
       "      <td>0.52406</td>\n",
       "    </tr>\n",
       "    <tr>\n",
       "      <th>4</th>\n",
       "      <td>10.00</td>\n",
       "      <td>0.52406</td>\n",
       "    </tr>\n",
       "  </tbody>\n",
       "</table>\n",
       "</div>"
      ],
      "text/plain": [
       "   alpha_test  rmse_score\n",
       "0        0.00     0.52406\n",
       "1        0.01     0.52406\n",
       "2        0.10     0.52406\n",
       "3        1.00     0.52406\n",
       "4       10.00     0.52406"
      ]
     },
     "execution_count": 41,
     "metadata": {},
     "output_type": "execute_result"
    }
   ],
   "source": [
    "df_show_rmse = pd.DataFrame({\n",
    "    'alpha_test': list_of_alphas,\n",
    "    'rmse_score': rmse_scores_list\n",
    "})\n",
    "\n",
    "df_show_rmse"
   ]
  },
  {
   "cell_type": "code",
   "execution_count": 42,
   "metadata": {},
   "outputs": [
    {
     "data": {
      "text/plain": [
       "<AxesSubplot:xlabel='alpha_test', ylabel='rmse_score'>"
      ]
     },
     "execution_count": 42,
     "metadata": {},
     "output_type": "execute_result"
    },
    {
     "data": {
      "image/png": "[encoded data removed]",
      "text/plain": [
       "<Figure size 432x288 with 1 Axes>"
      ]
     },
     "metadata": {
      "needs_background": "light"
     },
     "output_type": "display_data"
    }
   ],
   "source": [
    "sns.lineplot(data=df_show_rmse, x='alpha_test', y='rmse_score')"
   ]
  },
  {
   "cell_type": "code",
   "execution_count": 44,
   "metadata": {},
   "outputs": [
    {
     "name": "stdout",
     "output_type": "stream",
     "text": [
      "0\n"
     ]
    }
   ],
   "source": [
    "print('0')"
   ]
  },
  {
   "cell_type": "code",
   "execution_count": null,
   "metadata": {},
   "outputs": [],
   "source": []
  }
 ],
 "metadata": {
  "kernelspec": {
   "display_name": "Python 3.10.4 64-bit",
   "language": "python",
   "name": "python3"
  },
  "language_info": {
   "codemirror_mode": {
    "name": "ipython",
    "version": 3
   },
   "file_extension": ".py",
   "mimetype": "text/x-python",
   "name": "python",
   "nbconvert_exporter": "python",
   "pygments_lexer": "ipython3",
   "version": "3.10.4"
  },
  "orig_nbformat": 4,
  "vscode": {
   "interpreter": {
    "hash": "26de051ba29f2982a8de78e945f0abaf191376122a1563185a90213a26c5da77"
   }
  }
 },
 "nbformat": 4,
 "nbformat_minor": 2
}
