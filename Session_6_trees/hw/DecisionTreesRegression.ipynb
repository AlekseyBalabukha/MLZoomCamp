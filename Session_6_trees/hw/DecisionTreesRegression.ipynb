{
 "cells": [
  {
   "cell_type": "markdown",
   "metadata": {},
   "source": [
    "# Decision Trees for Regressio Task"
   ]
  },
  {
   "cell_type": "markdown",
   "metadata": {},
   "source": [
    "In this project we will work on regression problem (dataset California Housing Prices) [California Housing Prices dataset](https://www.kaggle.com/datasets/camnugent/california-housing-prices)"
   ]
  },
  {
   "cell_type": "markdown",
   "metadata": {},
   "source": [
    "Loading data:  \n",
    "we will use only the following columns:\n",
    "- 'latitude',\n",
    "\n",
    "- 'longitude',\n",
    "\n",
    "- 'housing_median_age',\n",
    "\n",
    "- 'total_rooms',\n",
    "\n",
    "- 'total_bedrooms',\n",
    "\n",
    "- 'population',\n",
    "\n",
    "- 'households',\n",
    "\n",
    "- 'median_income',\n",
    "\n",
    "- 'median_house_value',\n",
    "\n",
    "- 'ocean_proximity'"
   ]
  },
  {
   "cell_type": "code",
   "execution_count": 127,
   "metadata": {},
   "outputs": [],
   "source": [
    "import pandas as pd\n",
    "import numpy as np\n",
    "\n",
    "import seaborn as sns\n",
    "from matplotlib import pyplot as plt\n",
    "\n",
    "from sklearn.model_selection import train_test_split\n",
    "from sklearn.feature_extraction import DictVectorizer\n",
    "from sklearn import tree\n",
    "from sklearn.metrics import mean_squared_error\n",
    "\n",
    "#models:\n",
    "from sklearn.tree import DecisionTreeRegressor\n",
    "from sklearn.ensemble import RandomForestRegressor\n",
    "import xgboost as xgb"
   ]
  },
  {
   "cell_type": "code",
   "execution_count": 105,
   "metadata": {},
   "outputs": [
    {
     "data": {
      "text/html": [
       "<div>\n",
       "<style scoped>\n",
       "    .dataframe tbody tr th:only-of-type {\n",
       "        vertical-align: middle;\n",
       "    }\n",
       "\n",
       "    .dataframe tbody tr th {\n",
       "        vertical-align: top;\n",
       "    }\n",
       "\n",
       "    .dataframe thead th {\n",
       "        text-align: right;\n",
       "    }\n",
       "</style>\n",
       "<table border=\"1\" class=\"dataframe\">\n",
       "  <thead>\n",
       "    <tr style=\"text-align: right;\">\n",
       "      <th></th>\n",
       "      <th>latitude</th>\n",
       "      <th>longitude</th>\n",
       "      <th>housing_median_age</th>\n",
       "      <th>total_rooms</th>\n",
       "      <th>total_bedrooms</th>\n",
       "      <th>population</th>\n",
       "      <th>households</th>\n",
       "      <th>median_income</th>\n",
       "      <th>median_house_value</th>\n",
       "      <th>ocean_proximity</th>\n",
       "    </tr>\n",
       "  </thead>\n",
       "  <tbody>\n",
       "    <tr>\n",
       "      <th>0</th>\n",
       "      <td>37.88</td>\n",
       "      <td>-122.23</td>\n",
       "      <td>41.0</td>\n",
       "      <td>880.0</td>\n",
       "      <td>129.0</td>\n",
       "      <td>322.0</td>\n",
       "      <td>126.0</td>\n",
       "      <td>8.3252</td>\n",
       "      <td>452600.0</td>\n",
       "      <td>NEAR BAY</td>\n",
       "    </tr>\n",
       "    <tr>\n",
       "      <th>1</th>\n",
       "      <td>37.86</td>\n",
       "      <td>-122.22</td>\n",
       "      <td>21.0</td>\n",
       "      <td>7099.0</td>\n",
       "      <td>1106.0</td>\n",
       "      <td>2401.0</td>\n",
       "      <td>1138.0</td>\n",
       "      <td>8.3014</td>\n",
       "      <td>358500.0</td>\n",
       "      <td>NEAR BAY</td>\n",
       "    </tr>\n",
       "    <tr>\n",
       "      <th>2</th>\n",
       "      <td>37.85</td>\n",
       "      <td>-122.24</td>\n",
       "      <td>52.0</td>\n",
       "      <td>1467.0</td>\n",
       "      <td>190.0</td>\n",
       "      <td>496.0</td>\n",
       "      <td>177.0</td>\n",
       "      <td>7.2574</td>\n",
       "      <td>352100.0</td>\n",
       "      <td>NEAR BAY</td>\n",
       "    </tr>\n",
       "    <tr>\n",
       "      <th>3</th>\n",
       "      <td>37.85</td>\n",
       "      <td>-122.25</td>\n",
       "      <td>52.0</td>\n",
       "      <td>1274.0</td>\n",
       "      <td>235.0</td>\n",
       "      <td>558.0</td>\n",
       "      <td>219.0</td>\n",
       "      <td>5.6431</td>\n",
       "      <td>341300.0</td>\n",
       "      <td>NEAR BAY</td>\n",
       "    </tr>\n",
       "    <tr>\n",
       "      <th>4</th>\n",
       "      <td>37.85</td>\n",
       "      <td>-122.25</td>\n",
       "      <td>52.0</td>\n",
       "      <td>1627.0</td>\n",
       "      <td>280.0</td>\n",
       "      <td>565.0</td>\n",
       "      <td>259.0</td>\n",
       "      <td>3.8462</td>\n",
       "      <td>342200.0</td>\n",
       "      <td>NEAR BAY</td>\n",
       "    </tr>\n",
       "  </tbody>\n",
       "</table>\n",
       "</div>"
      ],
      "text/plain": [
       "   latitude  longitude  housing_median_age  total_rooms  total_bedrooms  \\\n",
       "0     37.88    -122.23                41.0        880.0           129.0   \n",
       "1     37.86    -122.22                21.0       7099.0          1106.0   \n",
       "2     37.85    -122.24                52.0       1467.0           190.0   \n",
       "3     37.85    -122.25                52.0       1274.0           235.0   \n",
       "4     37.85    -122.25                52.0       1627.0           280.0   \n",
       "\n",
       "   population  households  median_income  median_house_value ocean_proximity  \n",
       "0       322.0       126.0         8.3252            452600.0        NEAR BAY  \n",
       "1      2401.0      1138.0         8.3014            358500.0        NEAR BAY  \n",
       "2       496.0       177.0         7.2574            352100.0        NEAR BAY  \n",
       "3       558.0       219.0         5.6431            341300.0        NEAR BAY  \n",
       "4       565.0       259.0         3.8462            342200.0        NEAR BAY  "
      ]
     },
     "execution_count": 105,
     "metadata": {},
     "output_type": "execute_result"
    }
   ],
   "source": [
    "df = pd.read_csv('./data/housing.csv')\n",
    "df = df[[\n",
    "    'latitude',\n",
    "    'longitude',\n",
    "    'housing_median_age',\n",
    "    'total_rooms',\n",
    "    'total_bedrooms',\n",
    "    'population',\n",
    "    'households',\n",
    "    'median_income',\n",
    "    'median_house_value',\n",
    "    'ocean_proximity'\n",
    "]]\n",
    "df.head()"
   ]
  },
  {
   "cell_type": "code",
   "execution_count": 106,
   "metadata": {},
   "outputs": [
    {
     "data": {
      "text/plain": [
       "latitude                0\n",
       "longitude               0\n",
       "housing_median_age      0\n",
       "total_rooms             0\n",
       "total_bedrooms        207\n",
       "population              0\n",
       "households              0\n",
       "median_income           0\n",
       "median_house_value      0\n",
       "ocean_proximity         0\n",
       "dtype: int64"
      ]
     },
     "execution_count": 106,
     "metadata": {},
     "output_type": "execute_result"
    }
   ],
   "source": [
    "# how many empty values are present:\n",
    "df.isnull().sum()"
   ]
  },
  {
   "cell_type": "code",
   "execution_count": 107,
   "metadata": {},
   "outputs": [],
   "source": [
    "# fill empty cells with 0:\n",
    "df = df.fillna(0)"
   ]
  },
  {
   "cell_type": "code",
   "execution_count": 108,
   "metadata": {},
   "outputs": [],
   "source": [
    "# for distribution closer to normal we will use Log transformation:\n",
    "df['median_house_value'] = np.log1p(df['median_house_value'])"
   ]
  },
  {
   "cell_type": "code",
   "execution_count": 109,
   "metadata": {},
   "outputs": [
    {
     "name": "stdout",
     "output_type": "stream",
     "text": [
      "n total = 20640\n",
      "n_full_train = 16512, which is 80.0 %\n",
      "n_train = 12384, which is 60.0 %\n",
      "n_val = 4128, which is 20.0 %\n",
      "n_test = 4128, which is 20.0 %\n",
      "test_sum = 20640\n"
     ]
    }
   ],
   "source": [
    "# data splitting:\n",
    "df_full_train, df_test = train_test_split(df, test_size=0.2, random_state=1)\n",
    "df_train, df_val = train_test_split(df_full_train, test_size=0.25, random_state=1)\n",
    "\n",
    "df_full_train = df_full_train.reset_index(drop=True)\n",
    "df_train = df_train.reset_index(drop=True)\n",
    "df_val = df_val.reset_index(drop=True)\n",
    "df_test = df_test.reset_index(drop=True)\n",
    "\n",
    "n = len(df)\n",
    "n_full_train = len(df_full_train)\n",
    "n_train = len(df_train)\n",
    "n_val = len(df_val)\n",
    "n_test = len(df_test)\n",
    "\n",
    "share_full_train = n_full_train / n * 100\n",
    "share_train = n_train / n * 100\n",
    "share_val = n_val / n * 100\n",
    "share_test = n_test / n * 100\n",
    "\n",
    "print(f'n total = {n}')\n",
    "print(f'n_full_train = {n_full_train}, which is {share_full_train} %')\n",
    "print(f'n_train = {n_train}, which is {share_train} %')\n",
    "print(f'n_val = {n_val}, which is {share_val} %')\n",
    "print(f'n_test = {n_test}, which is {share_val} %')\n",
    "print(f'test_sum = {n_train + n_val + n_test}')"
   ]
  },
  {
   "cell_type": "code",
   "execution_count": 110,
   "metadata": {},
   "outputs": [],
   "source": [
    "# separate target variables:\n",
    "y_full_train = df_full_train['median_house_value'].values\n",
    "y_train = df_train['median_house_value'].values\n",
    "y_val = df_val['median_house_value'].values\n",
    "y_test = df_test['median_house_value'].values\n",
    "\n",
    "# drop target variable from feature matrix:\n",
    "df_full_train = df_full_train.drop(columns=['median_house_value'])\n",
    "df_train = df_train.drop(columns=['median_house_value'])\n",
    "df_val = df_val.drop(columns=['median_house_value'])\n",
    "df_test = df_test.drop(columns=['median_house_value'])"
   ]
  },
  {
   "cell_type": "code",
   "execution_count": 111,
   "metadata": {},
   "outputs": [],
   "source": [
    "# one-hot encoding:\n",
    "\n",
    "# dictionaries of feature matrices:\n",
    "dicts_full_train = df_full_train.to_dict(orient='records')\n",
    "dicts_train = df_train.to_dict(orient='records')\n",
    "dicts_val = df_val.to_dict(orient='records')\n",
    "dicts_test = df_test.to_dict(orient='records')\n",
    "\n",
    "dv = DictVectorizer(sparse=False)\n",
    "dv.fit(dicts_full_train)\n",
    "\n",
    "X_full_train = dv.transform(dicts_full_train)\n",
    "X_train = dv.transform(dicts_train)\n",
    "X_val = dv.transform(dicts_val)\n",
    "X_test = dv.transform(dicts_test)"
   ]
  },
  {
   "cell_type": "markdown",
   "metadata": {},
   "source": [
    "Now let's train Decision Stamp (Decision Tree Regressor with depth=1) and see what feature gave the best splitting result:"
   ]
  },
  {
   "cell_type": "code",
   "execution_count": 112,
   "metadata": {},
   "outputs": [
    {
     "data": {
      "text/html": [
       "<style>#sk-container-id-9 {color: black;background-color: white;}#sk-container-id-9 pre{padding: 0;}#sk-container-id-9 div.sk-toggleable {background-color: white;}#sk-container-id-9 label.sk-toggleable__label {cursor: pointer;display: block;width: 100%;margin-bottom: 0;padding: 0.3em;box-sizing: border-box;text-align: center;}#sk-container-id-9 label.sk-toggleable__label-arrow:before {content: \"▸\";float: left;margin-right: 0.25em;color: #696969;}#sk-container-id-9 label.sk-toggleable__label-arrow:hover:before {color: black;}#sk-container-id-9 div.sk-estimator:hover label.sk-toggleable__label-arrow:before {color: black;}#sk-container-id-9 div.sk-toggleable__content {max-height: 0;max-width: 0;overflow: hidden;text-align: left;background-color: #f0f8ff;}#sk-container-id-9 div.sk-toggleable__content pre {margin: 0.2em;color: black;border-radius: 0.25em;background-color: #f0f8ff;}#sk-container-id-9 input.sk-toggleable__control:checked~div.sk-toggleable__content {max-height: 200px;max-width: 100%;overflow: auto;}#sk-container-id-9 input.sk-toggleable__control:checked~label.sk-toggleable__label-arrow:before {content: \"▾\";}#sk-container-id-9 div.sk-estimator input.sk-toggleable__control:checked~label.sk-toggleable__label {background-color: #d4ebff;}#sk-container-id-9 div.sk-label input.sk-toggleable__control:checked~label.sk-toggleable__label {background-color: #d4ebff;}#sk-container-id-9 input.sk-hidden--visually {border: 0;clip: rect(1px 1px 1px 1px);clip: rect(1px, 1px, 1px, 1px);height: 1px;margin: -1px;overflow: hidden;padding: 0;position: absolute;width: 1px;}#sk-container-id-9 div.sk-estimator {font-family: monospace;background-color: #f0f8ff;border: 1px dotted black;border-radius: 0.25em;box-sizing: border-box;margin-bottom: 0.5em;}#sk-container-id-9 div.sk-estimator:hover {background-color: #d4ebff;}#sk-container-id-9 div.sk-parallel-item::after {content: \"\";width: 100%;border-bottom: 1px solid gray;flex-grow: 1;}#sk-container-id-9 div.sk-label:hover label.sk-toggleable__label {background-color: #d4ebff;}#sk-container-id-9 div.sk-serial::before {content: \"\";position: absolute;border-left: 1px solid gray;box-sizing: border-box;top: 0;bottom: 0;left: 50%;z-index: 0;}#sk-container-id-9 div.sk-serial {display: flex;flex-direction: column;align-items: center;background-color: white;padding-right: 0.2em;padding-left: 0.2em;position: relative;}#sk-container-id-9 div.sk-item {position: relative;z-index: 1;}#sk-container-id-9 div.sk-parallel {display: flex;align-items: stretch;justify-content: center;background-color: white;position: relative;}#sk-container-id-9 div.sk-item::before, #sk-container-id-9 div.sk-parallel-item::before {content: \"\";position: absolute;border-left: 1px solid gray;box-sizing: border-box;top: 0;bottom: 0;left: 50%;z-index: -1;}#sk-container-id-9 div.sk-parallel-item {display: flex;flex-direction: column;z-index: 1;position: relative;background-color: white;}#sk-container-id-9 div.sk-parallel-item:first-child::after {align-self: flex-end;width: 50%;}#sk-container-id-9 div.sk-parallel-item:last-child::after {align-self: flex-start;width: 50%;}#sk-container-id-9 div.sk-parallel-item:only-child::after {width: 0;}#sk-container-id-9 div.sk-dashed-wrapped {border: 1px dashed gray;margin: 0 0.4em 0.5em 0.4em;box-sizing: border-box;padding-bottom: 0.4em;background-color: white;}#sk-container-id-9 div.sk-label label {font-family: monospace;font-weight: bold;display: inline-block;line-height: 1.2em;}#sk-container-id-9 div.sk-label-container {text-align: center;}#sk-container-id-9 div.sk-container {/* jupyter's `normalize.less` sets `[hidden] { display: none; }` but bootstrap.min.css set `[hidden] { display: none !important; }` so we also need the `!important` here to be able to override the default hidden behavior on the sphinx rendered scikit-learn.org. See: https://github.com/scikit-learn/scikit-learn/issues/21755 */display: inline-block !important;position: relative;}#sk-container-id-9 div.sk-text-repr-fallback {display: none;}</style><div id=\"sk-container-id-9\" class=\"sk-top-container\"><div class=\"sk-text-repr-fallback\"><pre>DecisionTreeRegressor(max_depth=1)</pre><b>In a Jupyter environment, please rerun this cell to show the HTML representation or trust the notebook. <br />On GitHub, the HTML representation is unable to render, please try loading this page with nbviewer.org.</b></div><div class=\"sk-container\" hidden><div class=\"sk-item\"><div class=\"sk-estimator sk-toggleable\"><input class=\"sk-toggleable__control sk-hidden--visually\" id=\"sk-estimator-id-9\" type=\"checkbox\" checked><label for=\"sk-estimator-id-9\" class=\"sk-toggleable__label sk-toggleable__label-arrow\">DecisionTreeRegressor</label><div class=\"sk-toggleable__content\"><pre>DecisionTreeRegressor(max_depth=1)</pre></div></div></div></div></div>"
      ],
      "text/plain": [
       "DecisionTreeRegressor(max_depth=1)"
      ]
     },
     "execution_count": 112,
     "metadata": {},
     "output_type": "execute_result"
    }
   ],
   "source": [
    "dtr = DecisionTreeRegressor(max_depth=1)\n",
    "dtr.fit(X_train, y_train)"
   ]
  },
  {
   "cell_type": "code",
   "execution_count": 113,
   "metadata": {},
   "outputs": [
    {
     "data": {
      "text/plain": [
       "[Text(0.5, 0.75, 'ocean_proximity=INLAND <= 0.5\\nsquared_error = 0.322\\nsamples = 12384\\nvalue = 12.088'),\n",
       " Text(0.25, 0.25, 'squared_error = 0.214\\nsamples = 8483\\nvalue = 12.307'),\n",
       " Text(0.75, 0.25, 'squared_error = 0.227\\nsamples = 3901\\nvalue = 11.613')]"
      ]
     },
     "execution_count": 113,
     "metadata": {},
     "output_type": "execute_result"
    },
    {
     "data": {
      "image/png": "[encoded data removed]",
      "text/plain": [
       "<Figure size 640x480 with 1 Axes>"
      ]
     },
     "metadata": {},
     "output_type": "display_data"
    }
   ],
   "source": [
    "# visualize decision stamp:\n",
    "tree.plot_tree(dtr,\n",
    "               feature_names=dv.get_feature_names_out(),\n",
    "               filled=True)"
   ]
  },
  {
   "cell_type": "markdown",
   "metadata": {},
   "source": [
    "we can see that Decision Tree Regression found ocen proximnity being the most valuable feature, specifically whether property located In land or not"
   ]
  },
  {
   "cell_type": "markdown",
   "metadata": {},
   "source": [
    "Random Forest model generally shows better performance than stand alone Decision Tree model, since it combines different Decision Trees together, so let's train Random Forest Regressor"
   ]
  },
  {
   "cell_type": "code",
   "execution_count": 114,
   "metadata": {},
   "outputs": [
    {
     "name": "stdout",
     "output_type": "stream",
     "text": [
      "mean_squared_error on validation data = 0.25\n"
     ]
    }
   ],
   "source": [
    "rfr = RandomForestRegressor(n_estimators=10,\n",
    "                            random_state=1,\n",
    "                            n_jobs=-1)\n",
    "\n",
    "rfr.fit(X_train, y_train)\n",
    "y_pred = rfr.predict(X_val)\n",
    "rmse = mean_squared_error(y_val, y_pred, squared=False)\n",
    "print(f'mean_squared_error on validation data = {round(rmse, 2)}')"
   ]
  },
  {
   "cell_type": "markdown",
   "metadata": {},
   "source": [
    "Now let's experiment with parameter: n_estimators\n",
    "- we will try values starting from 10 to 200 with step=10\n",
    "- with random state fixed = 1 for reproducibility\n",
    "- we will evaluate model on validation dataset"
   ]
  },
  {
   "cell_type": "code",
   "execution_count": 115,
   "metadata": {},
   "outputs": [
    {
     "name": "stdout",
     "output_type": "stream",
     "text": [
      "n = 10, rmse = 0.2457383433183843\n",
      "n = 20, rmse = 0.2392615914316236\n",
      "n = 30, rmse = 0.23571658024242997\n",
      "n = 40, rmse = 0.23458299288526632\n",
      "n = 50, rmse = 0.23310354554874652\n",
      "n = 60, rmse = 0.2328429808263216\n",
      "n = 70, rmse = 0.23238404627057696\n",
      "n = 80, rmse = 0.2325270885881096\n",
      "n = 90, rmse = 0.23221524419442438\n",
      "n = 100, rmse = 0.23196833981101553\n",
      "n = 110, rmse = 0.23151835138763843\n",
      "n = 120, rmse = 0.23162059722289455\n",
      "n = 130, rmse = 0.23170961618874023\n",
      "n = 140, rmse = 0.23169246809784286\n",
      "n = 150, rmse = 0.23169445775520767\n",
      "n = 160, rmse = 0.23169721161526824\n",
      "n = 170, rmse = 0.23162910205851622\n",
      "n = 180, rmse = 0.23179023607197155\n",
      "n = 190, rmse = 0.23176241418109447\n",
      "n = 200, rmse = 0.23165006514034597\n"
     ]
    }
   ],
   "source": [
    "scores = []\n",
    "for n in range(10, 201, 10):\n",
    "    rfr = RandomForestRegressor(n_estimators = n,\n",
    "                                random_state = 1,\n",
    "                                n_jobs=-1)\n",
    "    rfr.fit(X_train, y_train)\n",
    "    y_pred = rfr.predict(X_val)\n",
    "    rmse = mean_squared_error(y_val, y_pred, squared=False)\n",
    "    scores.append((n, rmse))\n",
    "    print(f'n = {n}, rmse = {rmse}')\n",
    "                        "
   ]
  },
  {
   "cell_type": "code",
   "execution_count": 116,
   "metadata": {},
   "outputs": [
    {
     "data": {
      "text/html": [
       "<div>\n",
       "<style scoped>\n",
       "    .dataframe tbody tr th:only-of-type {\n",
       "        vertical-align: middle;\n",
       "    }\n",
       "\n",
       "    .dataframe tbody tr th {\n",
       "        vertical-align: top;\n",
       "    }\n",
       "\n",
       "    .dataframe thead th {\n",
       "        text-align: right;\n",
       "    }\n",
       "</style>\n",
       "<table border=\"1\" class=\"dataframe\">\n",
       "  <thead>\n",
       "    <tr style=\"text-align: right;\">\n",
       "      <th></th>\n",
       "      <th>n_estimators</th>\n",
       "      <th>rmse</th>\n",
       "    </tr>\n",
       "  </thead>\n",
       "  <tbody>\n",
       "    <tr>\n",
       "      <th>0</th>\n",
       "      <td>10</td>\n",
       "      <td>0.245738</td>\n",
       "    </tr>\n",
       "    <tr>\n",
       "      <th>1</th>\n",
       "      <td>20</td>\n",
       "      <td>0.239262</td>\n",
       "    </tr>\n",
       "    <tr>\n",
       "      <th>2</th>\n",
       "      <td>30</td>\n",
       "      <td>0.235717</td>\n",
       "    </tr>\n",
       "    <tr>\n",
       "      <th>3</th>\n",
       "      <td>40</td>\n",
       "      <td>0.234583</td>\n",
       "    </tr>\n",
       "    <tr>\n",
       "      <th>4</th>\n",
       "      <td>50</td>\n",
       "      <td>0.233104</td>\n",
       "    </tr>\n",
       "    <tr>\n",
       "      <th>5</th>\n",
       "      <td>60</td>\n",
       "      <td>0.232843</td>\n",
       "    </tr>\n",
       "    <tr>\n",
       "      <th>6</th>\n",
       "      <td>70</td>\n",
       "      <td>0.232384</td>\n",
       "    </tr>\n",
       "    <tr>\n",
       "      <th>7</th>\n",
       "      <td>80</td>\n",
       "      <td>0.232527</td>\n",
       "    </tr>\n",
       "    <tr>\n",
       "      <th>8</th>\n",
       "      <td>90</td>\n",
       "      <td>0.232215</td>\n",
       "    </tr>\n",
       "    <tr>\n",
       "      <th>9</th>\n",
       "      <td>100</td>\n",
       "      <td>0.231968</td>\n",
       "    </tr>\n",
       "    <tr>\n",
       "      <th>10</th>\n",
       "      <td>110</td>\n",
       "      <td>0.231518</td>\n",
       "    </tr>\n",
       "    <tr>\n",
       "      <th>11</th>\n",
       "      <td>120</td>\n",
       "      <td>0.231621</td>\n",
       "    </tr>\n",
       "    <tr>\n",
       "      <th>12</th>\n",
       "      <td>130</td>\n",
       "      <td>0.231710</td>\n",
       "    </tr>\n",
       "    <tr>\n",
       "      <th>13</th>\n",
       "      <td>140</td>\n",
       "      <td>0.231692</td>\n",
       "    </tr>\n",
       "    <tr>\n",
       "      <th>14</th>\n",
       "      <td>150</td>\n",
       "      <td>0.231694</td>\n",
       "    </tr>\n",
       "    <tr>\n",
       "      <th>15</th>\n",
       "      <td>160</td>\n",
       "      <td>0.231697</td>\n",
       "    </tr>\n",
       "    <tr>\n",
       "      <th>16</th>\n",
       "      <td>170</td>\n",
       "      <td>0.231629</td>\n",
       "    </tr>\n",
       "    <tr>\n",
       "      <th>17</th>\n",
       "      <td>180</td>\n",
       "      <td>0.231790</td>\n",
       "    </tr>\n",
       "    <tr>\n",
       "      <th>18</th>\n",
       "      <td>190</td>\n",
       "      <td>0.231762</td>\n",
       "    </tr>\n",
       "    <tr>\n",
       "      <th>19</th>\n",
       "      <td>200</td>\n",
       "      <td>0.231650</td>\n",
       "    </tr>\n",
       "  </tbody>\n",
       "</table>\n",
       "</div>"
      ],
      "text/plain": [
       "    n_estimators      rmse\n",
       "0             10  0.245738\n",
       "1             20  0.239262\n",
       "2             30  0.235717\n",
       "3             40  0.234583\n",
       "4             50  0.233104\n",
       "5             60  0.232843\n",
       "6             70  0.232384\n",
       "7             80  0.232527\n",
       "8             90  0.232215\n",
       "9            100  0.231968\n",
       "10           110  0.231518\n",
       "11           120  0.231621\n",
       "12           130  0.231710\n",
       "13           140  0.231692\n",
       "14           150  0.231694\n",
       "15           160  0.231697\n",
       "16           170  0.231629\n",
       "17           180  0.231790\n",
       "18           190  0.231762\n",
       "19           200  0.231650"
      ]
     },
     "execution_count": 116,
     "metadata": {},
     "output_type": "execute_result"
    }
   ],
   "source": [
    "columns = ['n_estimators', 'rmse']\n",
    "df_scores = pd.DataFrame(scores, columns = columns)\n",
    "df_scores"
   ]
  },
  {
   "cell_type": "code",
   "execution_count": 117,
   "metadata": {},
   "outputs": [
    {
     "data": {
      "text/plain": [
       "<AxesSubplot: xlabel='n_estimators', ylabel='rmse'>"
      ]
     },
     "execution_count": 117,
     "metadata": {},
     "output_type": "execute_result"
    },
    {
     "data": {
      "image/png": "[encoded data removed]",
      "text/plain": [
       "<Figure size 640x480 with 1 Axes>"
      ]
     },
     "metadata": {},
     "output_type": "display_data"
    }
   ],
   "source": [
    "sns.lineplot(data=df_scores, x='n_estimators', y='rmse')"
   ]
  },
  {
   "cell_type": "markdown",
   "metadata": {},
   "source": [
    "we can see that model performance is improving with increasing in number of estimators, till n_estimators = 110, where RMSE is the lowest  \n",
    "after this point performance of model is stagnate and even falls a bit to the end of graph"
   ]
  },
  {
   "cell_type": "markdown",
   "metadata": {},
   "source": [
    "## Tune max_depth parameter"
   ]
  },
  {
   "cell_type": "code",
   "execution_count": 119,
   "metadata": {},
   "outputs": [
    {
     "name": "stdout",
     "output_type": "stream",
     "text": [
      "max_depth = 10\n",
      "max_depth = 15\n",
      "max_depth = 20\n",
      "max_depth = 25\n"
     ]
    }
   ],
   "source": [
    "# we will consider 4 different values of max_depth:\n",
    "\n",
    "scores = []\n",
    "\n",
    "max_depth_list = [10, 15, 20, 25]\n",
    "for d in max_depth_list:\n",
    "    print(f'max_depth = {d}')\n",
    "    for n in range(10, 201, 10):\n",
    "        rfr = RandomForestRegressor(n_estimators=n,\n",
    "                                    max_depth = d,\n",
    "                                    random_state=1,\n",
    "                                    n_jobs=-1)\n",
    "        rfr.fit(X_train, y_train)\n",
    "        y_pred = rfr.predict(X_val)\n",
    "        rmse = mean_squared_error(y_val, y_pred, squared=False)\n",
    "        scores.append((d, n, rmse))"
   ]
  },
  {
   "cell_type": "code",
   "execution_count": 120,
   "metadata": {},
   "outputs": [
    {
     "data": {
      "text/html": [
       "<div>\n",
       "<style scoped>\n",
       "    .dataframe tbody tr th:only-of-type {\n",
       "        vertical-align: middle;\n",
       "    }\n",
       "\n",
       "    .dataframe tbody tr th {\n",
       "        vertical-align: top;\n",
       "    }\n",
       "\n",
       "    .dataframe thead th {\n",
       "        text-align: right;\n",
       "    }\n",
       "</style>\n",
       "<table border=\"1\" class=\"dataframe\">\n",
       "  <thead>\n",
       "    <tr style=\"text-align: right;\">\n",
       "      <th></th>\n",
       "      <th>max_depth</th>\n",
       "      <th>n_estimators</th>\n",
       "      <th>rmse</th>\n",
       "    </tr>\n",
       "  </thead>\n",
       "  <tbody>\n",
       "    <tr>\n",
       "      <th>0</th>\n",
       "      <td>10</td>\n",
       "      <td>10</td>\n",
       "      <td>0.255042</td>\n",
       "    </tr>\n",
       "    <tr>\n",
       "      <th>1</th>\n",
       "      <td>10</td>\n",
       "      <td>20</td>\n",
       "      <td>0.252784</td>\n",
       "    </tr>\n",
       "    <tr>\n",
       "      <th>2</th>\n",
       "      <td>10</td>\n",
       "      <td>30</td>\n",
       "      <td>0.251647</td>\n",
       "    </tr>\n",
       "    <tr>\n",
       "      <th>3</th>\n",
       "      <td>10</td>\n",
       "      <td>40</td>\n",
       "      <td>0.251062</td>\n",
       "    </tr>\n",
       "    <tr>\n",
       "      <th>4</th>\n",
       "      <td>10</td>\n",
       "      <td>50</td>\n",
       "      <td>0.250192</td>\n",
       "    </tr>\n",
       "  </tbody>\n",
       "</table>\n",
       "</div>"
      ],
      "text/plain": [
       "   max_depth  n_estimators      rmse\n",
       "0         10            10  0.255042\n",
       "1         10            20  0.252784\n",
       "2         10            30  0.251647\n",
       "3         10            40  0.251062\n",
       "4         10            50  0.250192"
      ]
     },
     "execution_count": 120,
     "metadata": {},
     "output_type": "execute_result"
    }
   ],
   "source": [
    "columns = ['max_depth', 'n_estimators', 'rmse']\n",
    "df_scores = pd.DataFrame(scores, columns = columns)\n",
    "df_scores.head()"
   ]
  },
  {
   "cell_type": "code",
   "execution_count": 122,
   "metadata": {},
   "outputs": [
    {
     "data": {
      "image/png": "[encoded data removed]",
      "text/plain": [
       "<Figure size 640x480 with 1 Axes>"
      ]
     },
     "metadata": {},
     "output_type": "display_data"
    }
   ],
   "source": [
    "# visualization:\n",
    "for d in max_depth_list:\n",
    "    df_subset = df_scores[df_scores['max_depth'] == d]\n",
    "    sns.lineplot(data=df_subset, x='n_estimators', y='rmse', label=f'max_depth = {d}')"
   ]
  },
  {
   "cell_type": "markdown",
   "metadata": {},
   "source": [
    "- we can see that max_depth=10 shows the worst performance, which is far below of other models\n",
    "- considering max_depth=15, 20 and 25:\n",
    "    - at the beginning all these models show quite similar results, but starting from n_estimators = 25 start to diverge\n",
    "    - max_depth = 15 stagnate in performance earlier and shows worse RMSE generally\n",
    "    - we can see that the increase in max_depth causes increase in model performance for considered dataset"
   ]
  },
  {
   "cell_type": "markdown",
   "metadata": {},
   "source": [
    "## Feature Importance from tree-based models"
   ]
  },
  {
   "cell_type": "markdown",
   "metadata": {},
   "source": [
    "We can extract feature importance information from tree-based models.   \n",
    "At each step Decision Tree learning algorithm finds the best split.  \n",
    "When it do it, we can calculate \"gain\" - the reduction in impurity before and after split.  \n",
    "This gain is useful in understanding what are the important features for tree-based models"
   ]
  },
  {
   "cell_type": "markdown",
   "metadata": {},
   "source": [
    "In Scikit-Learn, tree-based models contain this imformation in *feature_importances_* field"
   ]
  },
  {
   "cell_type": "markdown",
   "metadata": {},
   "source": [
    "now we will find the most important feature in dataset:\n",
    "- Train the model with parameters:\n",
    "    - n_estimators = 10\n",
    "    - max_depth = 20\n",
    "    - random_state = 1\n",
    "    - n_jobs = -1\n",
    "\n",
    "- get the feature importance information from this model"
   ]
  },
  {
   "cell_type": "code",
   "execution_count": 123,
   "metadata": {},
   "outputs": [
    {
     "data": {
      "text/html": [
       "<style>#sk-container-id-10 {color: black;background-color: white;}#sk-container-id-10 pre{padding: 0;}#sk-container-id-10 div.sk-toggleable {background-color: white;}#sk-container-id-10 label.sk-toggleable__label {cursor: pointer;display: block;width: 100%;margin-bottom: 0;padding: 0.3em;box-sizing: border-box;text-align: center;}#sk-container-id-10 label.sk-toggleable__label-arrow:before {content: \"▸\";float: left;margin-right: 0.25em;color: #696969;}#sk-container-id-10 label.sk-toggleable__label-arrow:hover:before {color: black;}#sk-container-id-10 div.sk-estimator:hover label.sk-toggleable__label-arrow:before {color: black;}#sk-container-id-10 div.sk-toggleable__content {max-height: 0;max-width: 0;overflow: hidden;text-align: left;background-color: #f0f8ff;}#sk-container-id-10 div.sk-toggleable__content pre {margin: 0.2em;color: black;border-radius: 0.25em;background-color: #f0f8ff;}#sk-container-id-10 input.sk-toggleable__control:checked~div.sk-toggleable__content {max-height: 200px;max-width: 100%;overflow: auto;}#sk-container-id-10 input.sk-toggleable__control:checked~label.sk-toggleable__label-arrow:before {content: \"▾\";}#sk-container-id-10 div.sk-estimator input.sk-toggleable__control:checked~label.sk-toggleable__label {background-color: #d4ebff;}#sk-container-id-10 div.sk-label input.sk-toggleable__control:checked~label.sk-toggleable__label {background-color: #d4ebff;}#sk-container-id-10 input.sk-hidden--visually {border: 0;clip: rect(1px 1px 1px 1px);clip: rect(1px, 1px, 1px, 1px);height: 1px;margin: -1px;overflow: hidden;padding: 0;position: absolute;width: 1px;}#sk-container-id-10 div.sk-estimator {font-family: monospace;background-color: #f0f8ff;border: 1px dotted black;border-radius: 0.25em;box-sizing: border-box;margin-bottom: 0.5em;}#sk-container-id-10 div.sk-estimator:hover {background-color: #d4ebff;}#sk-container-id-10 div.sk-parallel-item::after {content: \"\";width: 100%;border-bottom: 1px solid gray;flex-grow: 1;}#sk-container-id-10 div.sk-label:hover label.sk-toggleable__label {background-color: #d4ebff;}#sk-container-id-10 div.sk-serial::before {content: \"\";position: absolute;border-left: 1px solid gray;box-sizing: border-box;top: 0;bottom: 0;left: 50%;z-index: 0;}#sk-container-id-10 div.sk-serial {display: flex;flex-direction: column;align-items: center;background-color: white;padding-right: 0.2em;padding-left: 0.2em;position: relative;}#sk-container-id-10 div.sk-item {position: relative;z-index: 1;}#sk-container-id-10 div.sk-parallel {display: flex;align-items: stretch;justify-content: center;background-color: white;position: relative;}#sk-container-id-10 div.sk-item::before, #sk-container-id-10 div.sk-parallel-item::before {content: \"\";position: absolute;border-left: 1px solid gray;box-sizing: border-box;top: 0;bottom: 0;left: 50%;z-index: -1;}#sk-container-id-10 div.sk-parallel-item {display: flex;flex-direction: column;z-index: 1;position: relative;background-color: white;}#sk-container-id-10 div.sk-parallel-item:first-child::after {align-self: flex-end;width: 50%;}#sk-container-id-10 div.sk-parallel-item:last-child::after {align-self: flex-start;width: 50%;}#sk-container-id-10 div.sk-parallel-item:only-child::after {width: 0;}#sk-container-id-10 div.sk-dashed-wrapped {border: 1px dashed gray;margin: 0 0.4em 0.5em 0.4em;box-sizing: border-box;padding-bottom: 0.4em;background-color: white;}#sk-container-id-10 div.sk-label label {font-family: monospace;font-weight: bold;display: inline-block;line-height: 1.2em;}#sk-container-id-10 div.sk-label-container {text-align: center;}#sk-container-id-10 div.sk-container {/* jupyter's `normalize.less` sets `[hidden] { display: none; }` but bootstrap.min.css set `[hidden] { display: none !important; }` so we also need the `!important` here to be able to override the default hidden behavior on the sphinx rendered scikit-learn.org. See: https://github.com/scikit-learn/scikit-learn/issues/21755 */display: inline-block !important;position: relative;}#sk-container-id-10 div.sk-text-repr-fallback {display: none;}</style><div id=\"sk-container-id-10\" class=\"sk-top-container\"><div class=\"sk-text-repr-fallback\"><pre>RandomForestRegressor(max_depth=20, n_estimators=10, n_jobs=-1, random_state=1)</pre><b>In a Jupyter environment, please rerun this cell to show the HTML representation or trust the notebook. <br />On GitHub, the HTML representation is unable to render, please try loading this page with nbviewer.org.</b></div><div class=\"sk-container\" hidden><div class=\"sk-item\"><div class=\"sk-estimator sk-toggleable\"><input class=\"sk-toggleable__control sk-hidden--visually\" id=\"sk-estimator-id-10\" type=\"checkbox\" checked><label for=\"sk-estimator-id-10\" class=\"sk-toggleable__label sk-toggleable__label-arrow\">RandomForestRegressor</label><div class=\"sk-toggleable__content\"><pre>RandomForestRegressor(max_depth=20, n_estimators=10, n_jobs=-1, random_state=1)</pre></div></div></div></div></div>"
      ],
      "text/plain": [
       "RandomForestRegressor(max_depth=20, n_estimators=10, n_jobs=-1, random_state=1)"
      ]
     },
     "execution_count": 123,
     "metadata": {},
     "output_type": "execute_result"
    }
   ],
   "source": [
    "rfr = RandomForestRegressor(n_estimators=10,\n",
    "                            max_depth=20,\n",
    "                            random_state=1,\n",
    "                            n_jobs=-1)\n",
    "rfr.fit(X_train, y_train)"
   ]
  },
  {
   "cell_type": "code",
   "execution_count": 126,
   "metadata": {},
   "outputs": [
    {
     "data": {
      "text/html": [
       "<div>\n",
       "<style scoped>\n",
       "    .dataframe tbody tr th:only-of-type {\n",
       "        vertical-align: middle;\n",
       "    }\n",
       "\n",
       "    .dataframe tbody tr th {\n",
       "        vertical-align: top;\n",
       "    }\n",
       "\n",
       "    .dataframe thead th {\n",
       "        text-align: right;\n",
       "    }\n",
       "</style>\n",
       "<table border=\"1\" class=\"dataframe\">\n",
       "  <thead>\n",
       "    <tr style=\"text-align: right;\">\n",
       "      <th></th>\n",
       "      <th>feature</th>\n",
       "      <th>importance</th>\n",
       "    </tr>\n",
       "  </thead>\n",
       "  <tbody>\n",
       "    <tr>\n",
       "      <th>4</th>\n",
       "      <td>median_income</td>\n",
       "      <td>0.362913</td>\n",
       "    </tr>\n",
       "    <tr>\n",
       "      <th>6</th>\n",
       "      <td>ocean_proximity=INLAND</td>\n",
       "      <td>0.310901</td>\n",
       "    </tr>\n",
       "    <tr>\n",
       "      <th>2</th>\n",
       "      <td>latitude</td>\n",
       "      <td>0.101334</td>\n",
       "    </tr>\n",
       "    <tr>\n",
       "      <th>3</th>\n",
       "      <td>longitude</td>\n",
       "      <td>0.096265</td>\n",
       "    </tr>\n",
       "    <tr>\n",
       "      <th>1</th>\n",
       "      <td>housing_median_age</td>\n",
       "      <td>0.033094</td>\n",
       "    </tr>\n",
       "    <tr>\n",
       "      <th>10</th>\n",
       "      <td>population</td>\n",
       "      <td>0.030918</td>\n",
       "    </tr>\n",
       "    <tr>\n",
       "      <th>12</th>\n",
       "      <td>total_rooms</td>\n",
       "      <td>0.020536</td>\n",
       "    </tr>\n",
       "    <tr>\n",
       "      <th>11</th>\n",
       "      <td>total_bedrooms</td>\n",
       "      <td>0.019041</td>\n",
       "    </tr>\n",
       "    <tr>\n",
       "      <th>0</th>\n",
       "      <td>households</td>\n",
       "      <td>0.016957</td>\n",
       "    </tr>\n",
       "    <tr>\n",
       "      <th>9</th>\n",
       "      <td>ocean_proximity=NEAR OCEAN</td>\n",
       "      <td>0.004228</td>\n",
       "    </tr>\n",
       "    <tr>\n",
       "      <th>5</th>\n",
       "      <td>ocean_proximity=&lt;1H OCEAN</td>\n",
       "      <td>0.003007</td>\n",
       "    </tr>\n",
       "    <tr>\n",
       "      <th>8</th>\n",
       "      <td>ocean_proximity=NEAR BAY</td>\n",
       "      <td>0.000449</td>\n",
       "    </tr>\n",
       "    <tr>\n",
       "      <th>7</th>\n",
       "      <td>ocean_proximity=ISLAND</td>\n",
       "      <td>0.000357</td>\n",
       "    </tr>\n",
       "  </tbody>\n",
       "</table>\n",
       "</div>"
      ],
      "text/plain": [
       "                       feature  importance\n",
       "4                median_income    0.362913\n",
       "6       ocean_proximity=INLAND    0.310901\n",
       "2                     latitude    0.101334\n",
       "3                    longitude    0.096265\n",
       "1           housing_median_age    0.033094\n",
       "10                  population    0.030918\n",
       "12                 total_rooms    0.020536\n",
       "11              total_bedrooms    0.019041\n",
       "0                   households    0.016957\n",
       "9   ocean_proximity=NEAR OCEAN    0.004228\n",
       "5    ocean_proximity=<1H OCEAN    0.003007\n",
       "8     ocean_proximity=NEAR BAY    0.000449\n",
       "7       ocean_proximity=ISLAND    0.000357"
      ]
     },
     "execution_count": 126,
     "metadata": {},
     "output_type": "execute_result"
    }
   ],
   "source": [
    "df_feature_importance = pd.DataFrame({\n",
    "    'feature': dv.get_feature_names_out(),\n",
    "    'importance': rfr.feature_importances_\n",
    "})\n",
    "df_feature_importance.sort_values(by='importance', ascending=False)"
   ]
  },
  {
   "cell_type": "markdown",
   "metadata": {},
   "source": [
    "we can see that **median income** was the most valuable feature for algorithm during training"
   ]
  },
  {
   "cell_type": "markdown",
   "metadata": {},
   "source": [
    "## XGBoost algorithm"
   ]
  },
  {
   "cell_type": "markdown",
   "metadata": {},
   "source": [
    "now we will train XGBoost model and tune *eta* parameter:\n",
    "- create DMatrix for datasets\n",
    "- create whatchlist to monitor models performance\n",
    "- train model for 100 rounds with eta=0.3\n",
    "- change eta=0.1 and compare RMSE of these 2 models"
   ]
  },
  {
   "cell_type": "code",
   "execution_count": 156,
   "metadata": {},
   "outputs": [],
   "source": [
    "# create DMatrix for datasets:\n",
    "features = list(dv.get_feature_names_out())\n",
    "# drop '<' sign:\n",
    "for i in range(0, len(features)):\n",
    "    features[i] = features[i].replace('<', '')\n",
    "d_full_train = xgb.DMatrix(X_full_train, label=y_full_train, feature_names=features)\n",
    "d_train = xgb.DMatrix(X_train, label=y_train, feature_names=features)\n",
    "d_val = xgb.DMatrix(X_val, label=y_val, feature_names=features)\n",
    "df_test = xgb.DMatrix(X_test, label=y_test, feature_names=features)"
   ]
  },
  {
   "cell_type": "code",
   "execution_count": 165,
   "metadata": {},
   "outputs": [
    {
     "name": "stdout",
     "output_type": "stream",
     "text": [
      "[0]\ttrain-rmse:8.12733\tval-rmse:8.13232\n",
      "[1]\ttrain-rmse:5.69586\tval-rmse:5.70061\n",
      "[2]\ttrain-rmse:3.99543\tval-rmse:3.99991\n",
      "[3]\ttrain-rmse:2.80713\tval-rmse:2.81140\n",
      "[4]\ttrain-rmse:1.97816\tval-rmse:1.98262\n",
      "[5]\ttrain-rmse:1.40154\tval-rmse:1.40605\n",
      "[6]\ttrain-rmse:1.00267\tval-rmse:1.00869\n",
      "[7]\ttrain-rmse:0.72632\tval-rmse:0.73309\n",
      "[8]\ttrain-rmse:0.54079\tval-rmse:0.55028\n",
      "[9]\ttrain-rmse:0.42004\tval-rmse:0.43312\n",
      "[10]\ttrain-rmse:0.33762\tval-rmse:0.35337\n",
      "[11]\ttrain-rmse:0.28878\tval-rmse:0.30674\n",
      "[12]\ttrain-rmse:0.26009\tval-rmse:0.28012\n",
      "[13]\ttrain-rmse:0.24213\tval-rmse:0.26613\n",
      "[14]\ttrain-rmse:0.23183\tval-rmse:0.25837\n",
      "[15]\ttrain-rmse:0.22493\tval-rmse:0.25306\n",
      "[16]\ttrain-rmse:0.22056\tval-rmse:0.24945\n",
      "[17]\ttrain-rmse:0.21489\tval-rmse:0.24577\n",
      "[18]\ttrain-rmse:0.21291\tval-rmse:0.24467\n",
      "[19]\ttrain-rmse:0.21002\tval-rmse:0.24403\n",
      "[20]\ttrain-rmse:0.20596\tval-rmse:0.24074\n",
      "[21]\ttrain-rmse:0.20332\tval-rmse:0.23947\n",
      "[22]\ttrain-rmse:0.20252\tval-rmse:0.23970\n",
      "[23]\ttrain-rmse:0.20104\tval-rmse:0.23894\n",
      "[24]\ttrain-rmse:0.19818\tval-rmse:0.23781\n",
      "[25]\ttrain-rmse:0.19729\tval-rmse:0.23785\n",
      "[26]\ttrain-rmse:0.19643\tval-rmse:0.23766\n",
      "[27]\ttrain-rmse:0.19486\tval-rmse:0.23716\n",
      "[28]\ttrain-rmse:0.19244\tval-rmse:0.23611\n",
      "[29]\ttrain-rmse:0.19190\tval-rmse:0.23591\n",
      "[30]\ttrain-rmse:0.19027\tval-rmse:0.23540\n",
      "[31]\ttrain-rmse:0.18916\tval-rmse:0.23532\n",
      "[32]\ttrain-rmse:0.18850\tval-rmse:0.23515\n",
      "[33]\ttrain-rmse:0.18689\tval-rmse:0.23478\n",
      "[34]\ttrain-rmse:0.18524\tval-rmse:0.23421\n",
      "[35]\ttrain-rmse:0.18405\tval-rmse:0.23375\n",
      "[36]\ttrain-rmse:0.18375\tval-rmse:0.23362\n",
      "[37]\ttrain-rmse:0.18248\tval-rmse:0.23315\n",
      "[38]\ttrain-rmse:0.18075\tval-rmse:0.23233\n",
      "[39]\ttrain-rmse:0.17969\tval-rmse:0.23196\n",
      "[40]\ttrain-rmse:0.17892\tval-rmse:0.23185\n",
      "[41]\ttrain-rmse:0.17758\tval-rmse:0.23163\n",
      "[42]\ttrain-rmse:0.17648\tval-rmse:0.23139\n",
      "[43]\ttrain-rmse:0.17427\tval-rmse:0.23112\n",
      "[44]\ttrain-rmse:0.17328\tval-rmse:0.23100\n",
      "[45]\ttrain-rmse:0.17184\tval-rmse:0.23031\n",
      "[46]\ttrain-rmse:0.17121\tval-rmse:0.23033\n",
      "[47]\ttrain-rmse:0.16967\tval-rmse:0.22988\n",
      "[48]\ttrain-rmse:0.16857\tval-rmse:0.23043\n",
      "[49]\ttrain-rmse:0.16745\tval-rmse:0.23032\n",
      "[50]\ttrain-rmse:0.16595\tval-rmse:0.23023\n",
      "[51]\ttrain-rmse:0.16535\tval-rmse:0.22990\n",
      "[52]\ttrain-rmse:0.16445\tval-rmse:0.22991\n",
      "[53]\ttrain-rmse:0.16412\tval-rmse:0.22990\n",
      "[54]\ttrain-rmse:0.16383\tval-rmse:0.22998\n",
      "[55]\ttrain-rmse:0.16293\tval-rmse:0.22988\n",
      "[56]\ttrain-rmse:0.16195\tval-rmse:0.22958\n",
      "[57]\ttrain-rmse:0.16148\tval-rmse:0.22947\n",
      "[58]\ttrain-rmse:0.15994\tval-rmse:0.22902\n",
      "[59]\ttrain-rmse:0.15968\tval-rmse:0.22892\n",
      "[60]\ttrain-rmse:0.15890\tval-rmse:0.22888\n",
      "[61]\ttrain-rmse:0.15870\tval-rmse:0.22897\n",
      "[62]\ttrain-rmse:0.15777\tval-rmse:0.22881\n",
      "[63]\ttrain-rmse:0.15741\tval-rmse:0.22869\n",
      "[64]\ttrain-rmse:0.15703\tval-rmse:0.22880\n",
      "[65]\ttrain-rmse:0.15626\tval-rmse:0.22871\n",
      "[66]\ttrain-rmse:0.15570\tval-rmse:0.22863\n",
      "[67]\ttrain-rmse:0.15491\tval-rmse:0.22874\n",
      "[68]\ttrain-rmse:0.15386\tval-rmse:0.22892\n",
      "[69]\ttrain-rmse:0.15324\tval-rmse:0.22875\n",
      "[70]\ttrain-rmse:0.15245\tval-rmse:0.22871\n",
      "[71]\ttrain-rmse:0.15147\tval-rmse:0.22833\n",
      "[72]\ttrain-rmse:0.15068\tval-rmse:0.22837\n",
      "[73]\ttrain-rmse:0.15014\tval-rmse:0.22836\n",
      "[74]\ttrain-rmse:0.14948\tval-rmse:0.22810\n",
      "[75]\ttrain-rmse:0.14843\tval-rmse:0.22768\n",
      "[76]\ttrain-rmse:0.14775\tval-rmse:0.22759\n",
      "[77]\ttrain-rmse:0.14681\tval-rmse:0.22746\n",
      "[78]\ttrain-rmse:0.14625\tval-rmse:0.22741\n",
      "[79]\ttrain-rmse:0.14560\tval-rmse:0.22751\n",
      "[80]\ttrain-rmse:0.14470\tval-rmse:0.22726\n",
      "[81]\ttrain-rmse:0.14387\tval-rmse:0.22748\n",
      "[82]\ttrain-rmse:0.14339\tval-rmse:0.22748\n",
      "[83]\ttrain-rmse:0.14206\tval-rmse:0.22710\n",
      "[84]\ttrain-rmse:0.14167\tval-rmse:0.22720\n",
      "[85]\ttrain-rmse:0.14107\tval-rmse:0.22714\n",
      "[86]\ttrain-rmse:0.14029\tval-rmse:0.22699\n",
      "[87]\ttrain-rmse:0.14016\tval-rmse:0.22696\n",
      "[88]\ttrain-rmse:0.13945\tval-rmse:0.22715\n",
      "[89]\ttrain-rmse:0.13905\tval-rmse:0.22716\n",
      "[90]\ttrain-rmse:0.13835\tval-rmse:0.22729\n",
      "[91]\ttrain-rmse:0.13779\tval-rmse:0.22724\n",
      "[92]\ttrain-rmse:0.13720\tval-rmse:0.22726\n",
      "[93]\ttrain-rmse:0.13665\tval-rmse:0.22719\n",
      "[94]\ttrain-rmse:0.13613\tval-rmse:0.22730\n",
      "[95]\ttrain-rmse:0.13563\tval-rmse:0.22716\n",
      "[96]\ttrain-rmse:0.13517\tval-rmse:0.22700\n",
      "[97]\ttrain-rmse:0.13466\tval-rmse:0.22688\n",
      "[98]\ttrain-rmse:0.13388\tval-rmse:0.22703\n",
      "[99]\ttrain-rmse:0.13339\tval-rmse:0.22707\n",
      "rmse for eat=0.3 = 0.051561878609488375\n"
     ]
    }
   ],
   "source": [
    "whatchlist = [(d_train, 'train'), (d_val, 'val')]\n",
    "\n",
    "xgb_params = {\n",
    "    'eta': 0.3,\n",
    "    'max_depth': 6,\n",
    "    'min_child_weight': 1,\n",
    "\n",
    "    'objective': 'reg:squarederror',\n",
    "    'nthreads': 8,\n",
    "\n",
    "    'seed': 1,\n",
    "    'verbosity': 0,\n",
    "}\n",
    "xgb_model = xgb.train(xgb_params, d_train, num_boost_round=100, evals=whatchlist)\n",
    "y_pred = xgb_model.predict(d_val)\n",
    "rmse = mean_squared_error(y_val, y_pred)\n",
    "print(f'rmse for eat=0.3 = {rmse}')"
   ]
  },
  {
   "cell_type": "code",
   "execution_count": 168,
   "metadata": {},
   "outputs": [
    {
     "name": "stdout",
     "output_type": "stream",
     "text": [
      "[0]\ttrain-rmse:10.44372\tval-rmse:10.44933\n",
      "[1]\ttrain-rmse:9.40118\tval-rmse:9.40680\n",
      "[2]\ttrain-rmse:8.46290\tval-rmse:8.46827\n",
      "[3]\ttrain-rmse:7.61859\tval-rmse:7.62387\n",
      "[4]\ttrain-rmse:6.85878\tval-rmse:6.86363\n",
      "[5]\ttrain-rmse:6.17513\tval-rmse:6.17983\n",
      "[6]\ttrain-rmse:5.55994\tval-rmse:5.56433\n",
      "[7]\ttrain-rmse:5.00643\tval-rmse:5.01057\n",
      "[8]\ttrain-rmse:4.50846\tval-rmse:4.51254\n",
      "[9]\ttrain-rmse:4.06043\tval-rmse:4.06448\n",
      "[10]\ttrain-rmse:3.65741\tval-rmse:3.66123\n",
      "[11]\ttrain-rmse:3.29493\tval-rmse:3.29883\n",
      "[12]\ttrain-rmse:2.96895\tval-rmse:2.97269\n",
      "[13]\ttrain-rmse:2.67551\tval-rmse:2.67951\n",
      "[14]\ttrain-rmse:2.41179\tval-rmse:2.41589\n",
      "[15]\ttrain-rmse:2.17479\tval-rmse:2.17906\n",
      "[16]\ttrain-rmse:1.96172\tval-rmse:1.96607\n",
      "[17]\ttrain-rmse:1.77047\tval-rmse:1.77480\n",
      "[18]\ttrain-rmse:1.59855\tval-rmse:1.60301\n",
      "[19]\ttrain-rmse:1.44410\tval-rmse:1.44871\n",
      "[20]\ttrain-rmse:1.30574\tval-rmse:1.31081\n",
      "[21]\ttrain-rmse:1.18161\tval-rmse:1.18708\n",
      "[22]\ttrain-rmse:1.06939\tval-rmse:1.07513\n",
      "[23]\ttrain-rmse:0.96920\tval-rmse:0.97506\n",
      "[24]\ttrain-rmse:0.87996\tval-rmse:0.88639\n",
      "[25]\ttrain-rmse:0.79939\tval-rmse:0.80624\n",
      "[26]\ttrain-rmse:0.72804\tval-rmse:0.73540\n",
      "[27]\ttrain-rmse:0.66460\tval-rmse:0.67243\n",
      "[28]\ttrain-rmse:0.60794\tval-rmse:0.61649\n",
      "[29]\ttrain-rmse:0.55767\tval-rmse:0.56715\n",
      "[30]\ttrain-rmse:0.51249\tval-rmse:0.52261\n",
      "[31]\ttrain-rmse:0.47337\tval-rmse:0.48419\n",
      "[32]\ttrain-rmse:0.43850\tval-rmse:0.45012\n",
      "[33]\ttrain-rmse:0.40812\tval-rmse:0.42074\n",
      "[34]\ttrain-rmse:0.38173\tval-rmse:0.39536\n",
      "[35]\ttrain-rmse:0.35885\tval-rmse:0.37335\n",
      "[36]\ttrain-rmse:0.33852\tval-rmse:0.35428\n",
      "[37]\ttrain-rmse:0.32126\tval-rmse:0.33792\n",
      "[38]\ttrain-rmse:0.30639\tval-rmse:0.32396\n",
      "[39]\ttrain-rmse:0.29320\tval-rmse:0.31200\n",
      "[40]\ttrain-rmse:0.28201\tval-rmse:0.30159\n",
      "[41]\ttrain-rmse:0.27234\tval-rmse:0.29297\n",
      "[42]\ttrain-rmse:0.26415\tval-rmse:0.28553\n",
      "[43]\ttrain-rmse:0.25605\tval-rmse:0.27826\n",
      "[44]\ttrain-rmse:0.24995\tval-rmse:0.27319\n",
      "[45]\ttrain-rmse:0.24486\tval-rmse:0.26854\n",
      "[46]\ttrain-rmse:0.23960\tval-rmse:0.26394\n",
      "[47]\ttrain-rmse:0.23550\tval-rmse:0.26067\n",
      "[48]\ttrain-rmse:0.23146\tval-rmse:0.25713\n",
      "[49]\ttrain-rmse:0.22851\tval-rmse:0.25497\n",
      "[50]\ttrain-rmse:0.22535\tval-rmse:0.25235\n",
      "[51]\ttrain-rmse:0.22291\tval-rmse:0.25050\n",
      "[52]\ttrain-rmse:0.22122\tval-rmse:0.24909\n",
      "[53]\ttrain-rmse:0.21977\tval-rmse:0.24787\n",
      "[54]\ttrain-rmse:0.21802\tval-rmse:0.24662\n",
      "[55]\ttrain-rmse:0.21664\tval-rmse:0.24551\n",
      "[56]\ttrain-rmse:0.21514\tval-rmse:0.24467\n",
      "[57]\ttrain-rmse:0.21428\tval-rmse:0.24396\n",
      "[58]\ttrain-rmse:0.21285\tval-rmse:0.24313\n",
      "[59]\ttrain-rmse:0.21140\tval-rmse:0.24231\n",
      "[60]\ttrain-rmse:0.21024\tval-rmse:0.24172\n",
      "[61]\ttrain-rmse:0.20965\tval-rmse:0.24148\n",
      "[62]\ttrain-rmse:0.20899\tval-rmse:0.24096\n",
      "[63]\ttrain-rmse:0.20744\tval-rmse:0.23992\n",
      "[64]\ttrain-rmse:0.20650\tval-rmse:0.23949\n",
      "[65]\ttrain-rmse:0.20516\tval-rmse:0.23854\n",
      "[66]\ttrain-rmse:0.20478\tval-rmse:0.23845\n",
      "[67]\ttrain-rmse:0.20423\tval-rmse:0.23825\n",
      "[68]\ttrain-rmse:0.20293\tval-rmse:0.23736\n",
      "[69]\ttrain-rmse:0.20263\tval-rmse:0.23731\n",
      "[70]\ttrain-rmse:0.20159\tval-rmse:0.23698\n",
      "[71]\ttrain-rmse:0.20045\tval-rmse:0.23614\n",
      "[72]\ttrain-rmse:0.19941\tval-rmse:0.23588\n",
      "[73]\ttrain-rmse:0.19874\tval-rmse:0.23559\n",
      "[74]\ttrain-rmse:0.19818\tval-rmse:0.23534\n",
      "[75]\ttrain-rmse:0.19740\tval-rmse:0.23525\n",
      "[76]\ttrain-rmse:0.19666\tval-rmse:0.23492\n",
      "[77]\ttrain-rmse:0.19598\tval-rmse:0.23470\n",
      "[78]\ttrain-rmse:0.19569\tval-rmse:0.23454\n",
      "[79]\ttrain-rmse:0.19535\tval-rmse:0.23456\n",
      "[80]\ttrain-rmse:0.19449\tval-rmse:0.23428\n",
      "[81]\ttrain-rmse:0.19401\tval-rmse:0.23407\n",
      "[82]\ttrain-rmse:0.19325\tval-rmse:0.23378\n",
      "[83]\ttrain-rmse:0.19298\tval-rmse:0.23361\n",
      "[84]\ttrain-rmse:0.19215\tval-rmse:0.23360\n",
      "[85]\ttrain-rmse:0.19161\tval-rmse:0.23328\n",
      "[86]\ttrain-rmse:0.19104\tval-rmse:0.23310\n",
      "[87]\ttrain-rmse:0.19053\tval-rmse:0.23291\n",
      "[88]\ttrain-rmse:0.18993\tval-rmse:0.23260\n",
      "[89]\ttrain-rmse:0.18931\tval-rmse:0.23239\n",
      "[90]\ttrain-rmse:0.18884\tval-rmse:0.23234\n",
      "[91]\ttrain-rmse:0.18813\tval-rmse:0.23207\n",
      "[92]\ttrain-rmse:0.18765\tval-rmse:0.23184\n",
      "[93]\ttrain-rmse:0.18676\tval-rmse:0.23129\n",
      "[94]\ttrain-rmse:0.18611\tval-rmse:0.23120\n",
      "[95]\ttrain-rmse:0.18570\tval-rmse:0.23091\n",
      "[96]\ttrain-rmse:0.18520\tval-rmse:0.23067\n",
      "[97]\ttrain-rmse:0.18477\tval-rmse:0.23050\n",
      "[98]\ttrain-rmse:0.18448\tval-rmse:0.23056\n",
      "[99]\ttrain-rmse:0.18367\tval-rmse:0.23027\n",
      "rmse for eta=0.1:  0.05302619580928141\n"
     ]
    }
   ],
   "source": [
    "whatchlist = [(d_train, 'train'), (d_val, 'val')]\n",
    "\n",
    "xgb_params = {\n",
    "    'eta': 0.1,\n",
    "    'max_depth': 6,\n",
    "    'min_child_weight': 1,\n",
    "\n",
    "    'objective': 'reg:squarederror',\n",
    "    'nthreads': 8,\n",
    "\n",
    "    'seed': 1,\n",
    "    'verbosity': 0,\n",
    "}\n",
    "xgb_model = xgb.train(xgb_params, d_train, num_boost_round=100, evals=whatchlist)\n",
    "y_pred = xgb_model.predict(d_val)\n",
    "rmse = mean_squared_error(y_val, y_pred)\n",
    "print(f'rmse for eta=0.1:  {rmse}')"
   ]
  },
  {
   "cell_type": "markdown",
   "metadata": {},
   "source": [
    "We can see that the default value of eta shows better performance"
   ]
  },
  {
   "cell_type": "markdown",
   "metadata": {},
   "source": []
  }
 ],
 "metadata": {
  "kernelspec": {
   "display_name": "Python 3.11.0 64-bit",
   "language": "python",
   "name": "python3"
  },
  "language_info": {
   "codemirror_mode": {
    "name": "ipython",
    "version": 3
   },
   "file_extension": ".py",
   "mimetype": "text/x-python",
   "name": "python",
   "nbconvert_exporter": "python",
   "pygments_lexer": "ipython3",
   "version": "3.11.0"
  },
  "orig_nbformat": 4,
  "vscode": {
   "interpreter": {
    "hash": "5238573367df39f7286bb46f9ff5f08f63a01a80960060ce41e3c79b190280fa"
   }
  }
 },
 "nbformat": 4,
 "nbformat_minor": 2
}
