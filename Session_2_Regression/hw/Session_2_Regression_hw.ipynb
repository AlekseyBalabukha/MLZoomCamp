{
 "cells": [
  {
   "cell_type": "markdown",
   "metadata": {},
   "source": [
    "# Regression California Housing Prices from Kaggle."
   ]
  },
  {
   "cell_type": "markdown",
   "metadata": {},
   "source": [
    "[Housing dataset from Kaggle](https://www.kaggle.com/datasets/camnugent/california-housing-prices?resource=download)"
   ]
  },
  {
   "cell_type": "markdown",
   "metadata": {},
   "source": [
    "The goal is to Create a Regression model for predicting housing prices (column \"median_house_value\")"
   ]
  },
  {
   "cell_type": "code",
   "execution_count": 397,
   "metadata": {},
   "outputs": [],
   "source": [
    "# import libraries:\n",
    "import pandas as pd\n",
    "import numpy as np\n",
    "\n",
    "from matplotlib import pyplot as plt\n",
    "import seaborn as sns"
   ]
  },
  {
   "cell_type": "markdown",
   "metadata": {},
   "source": [
    "# EDA (Exploratory Data Analysis)"
   ]
  },
  {
   "cell_type": "code",
   "execution_count": 398,
   "metadata": {},
   "outputs": [
    {
     "data": {
      "text/html": [
       "<div>\n",
       "<style scoped>\n",
       "    .dataframe tbody tr th:only-of-type {\n",
       "        vertical-align: middle;\n",
       "    }\n",
       "\n",
       "    .dataframe tbody tr th {\n",
       "        vertical-align: top;\n",
       "    }\n",
       "\n",
       "    .dataframe thead th {\n",
       "        text-align: right;\n",
       "    }\n",
       "</style>\n",
       "<table border=\"1\" class=\"dataframe\">\n",
       "  <thead>\n",
       "    <tr style=\"text-align: right;\">\n",
       "      <th></th>\n",
       "      <th>longitude</th>\n",
       "      <th>latitude</th>\n",
       "      <th>housing_median_age</th>\n",
       "      <th>total_rooms</th>\n",
       "      <th>total_bedrooms</th>\n",
       "      <th>population</th>\n",
       "      <th>households</th>\n",
       "      <th>median_income</th>\n",
       "      <th>median_house_value</th>\n",
       "      <th>ocean_proximity</th>\n",
       "    </tr>\n",
       "  </thead>\n",
       "  <tbody>\n",
       "    <tr>\n",
       "      <th>0</th>\n",
       "      <td>-122.23</td>\n",
       "      <td>37.88</td>\n",
       "      <td>41.0</td>\n",
       "      <td>880.0</td>\n",
       "      <td>129.0</td>\n",
       "      <td>322.0</td>\n",
       "      <td>126.0</td>\n",
       "      <td>8.3252</td>\n",
       "      <td>452600.0</td>\n",
       "      <td>NEAR BAY</td>\n",
       "    </tr>\n",
       "    <tr>\n",
       "      <th>1</th>\n",
       "      <td>-122.22</td>\n",
       "      <td>37.86</td>\n",
       "      <td>21.0</td>\n",
       "      <td>7099.0</td>\n",
       "      <td>1106.0</td>\n",
       "      <td>2401.0</td>\n",
       "      <td>1138.0</td>\n",
       "      <td>8.3014</td>\n",
       "      <td>358500.0</td>\n",
       "      <td>NEAR BAY</td>\n",
       "    </tr>\n",
       "    <tr>\n",
       "      <th>2</th>\n",
       "      <td>-122.24</td>\n",
       "      <td>37.85</td>\n",
       "      <td>52.0</td>\n",
       "      <td>1467.0</td>\n",
       "      <td>190.0</td>\n",
       "      <td>496.0</td>\n",
       "      <td>177.0</td>\n",
       "      <td>7.2574</td>\n",
       "      <td>352100.0</td>\n",
       "      <td>NEAR BAY</td>\n",
       "    </tr>\n",
       "  </tbody>\n",
       "</table>\n",
       "</div>"
      ],
      "text/plain": [
       "   longitude  latitude  housing_median_age  total_rooms  total_bedrooms  \\\n",
       "0    -122.23     37.88                41.0        880.0           129.0   \n",
       "1    -122.22     37.86                21.0       7099.0          1106.0   \n",
       "2    -122.24     37.85                52.0       1467.0           190.0   \n",
       "\n",
       "   population  households  median_income  median_house_value ocean_proximity  \n",
       "0       322.0       126.0         8.3252            452600.0        NEAR BAY  \n",
       "1      2401.0      1138.0         8.3014            358500.0        NEAR BAY  \n",
       "2       496.0       177.0         7.2574            352100.0        NEAR BAY  "
      ]
     },
     "execution_count": 398,
     "metadata": {},
     "output_type": "execute_result"
    }
   ],
   "source": [
    "# Data Loading:\n",
    "df = pd.read_csv('./data/housing.csv')\n",
    "df.head(3)"
   ]
  },
  {
   "cell_type": "markdown",
   "metadata": {},
   "source": [
    "Now let's take a look at the Distribution of the Target Variable (median_house_value):"
   ]
  },
  {
   "cell_type": "code",
   "execution_count": 399,
   "metadata": {},
   "outputs": [
    {
     "data": {
      "text/plain": [
       "<AxesSubplot:xlabel='median_house_value', ylabel='Count'>"
      ]
     },
     "execution_count": 399,
     "metadata": {},
     "output_type": "execute_result"
    },
    {
     "data": {
      "image/png": "[encoded data removed]",
      "text/plain": [
       "<Figure size 432x288 with 1 Axes>"
      ]
     },
     "metadata": {
      "needs_background": "light"
     },
     "output_type": "display_data"
    }
   ],
   "source": [
    "# distribution plot by Histogram:\n",
    "sns.histplot(df.median_house_value)"
   ]
  },
  {
   "cell_type": "markdown",
   "metadata": {},
   "source": [
    "We can see that there are many houses with high prices and second peak on the Maximum price around 500 thousand dollars  "
   ]
  },
  {
   "cell_type": "markdown",
   "metadata": {},
   "source": [
    "We may also try to transform the Target variable by using Log transformation"
   ]
  },
  {
   "cell_type": "code",
   "execution_count": 400,
   "metadata": {},
   "outputs": [
    {
     "data": {
      "text/plain": [
       "<AxesSubplot:xlabel='median_house_value', ylabel='Count'>"
      ]
     },
     "execution_count": 400,
     "metadata": {},
     "output_type": "execute_result"
    },
    {
     "data": {
      "image/png": "[encoded data removed]",
      "text/plain": [
       "<Figure size 432x288 with 1 Axes>"
      ]
     },
     "metadata": {
      "needs_background": "light"
     },
     "output_type": "display_data"
    }
   ],
   "source": [
    "# to eliminate problems with log(0) errors we use log1p function, which adds 1 to each observation\n",
    "sns.histplot(np.log1p(df.median_house_value))"
   ]
  },
  {
   "cell_type": "markdown",
   "metadata": {},
   "source": [
    "Now the distribution look closer to the Normal (Bell Curve), except low values in the left part of the Plot"
   ]
  },
  {
   "cell_type": "markdown",
   "metadata": {},
   "source": [
    "# Features"
   ]
  },
  {
   "cell_type": "markdown",
   "metadata": {},
   "source": [
    "In this project we will consider only the following variables:  \n",
    "- latitude\n",
    "- longitude\n",
    "- housing_median_age\n",
    "- total_rooms\n",
    "- total_bedrooms\n",
    "- population\n",
    "- households\n",
    "- median_income\n",
    "- median_house_value (Target)"
   ]
  },
  {
   "cell_type": "code",
   "execution_count": 401,
   "metadata": {},
   "outputs": [
    {
     "data": {
      "text/html": [
       "<div>\n",
       "<style scoped>\n",
       "    .dataframe tbody tr th:only-of-type {\n",
       "        vertical-align: middle;\n",
       "    }\n",
       "\n",
       "    .dataframe tbody tr th {\n",
       "        vertical-align: top;\n",
       "    }\n",
       "\n",
       "    .dataframe thead th {\n",
       "        text-align: right;\n",
       "    }\n",
       "</style>\n",
       "<table border=\"1\" class=\"dataframe\">\n",
       "  <thead>\n",
       "    <tr style=\"text-align: right;\">\n",
       "      <th></th>\n",
       "      <th>latitude</th>\n",
       "      <th>longitude</th>\n",
       "      <th>housing_median_age</th>\n",
       "      <th>total_rooms</th>\n",
       "      <th>total_bedrooms</th>\n",
       "      <th>population</th>\n",
       "      <th>households</th>\n",
       "      <th>median_income</th>\n",
       "      <th>median_house_value</th>\n",
       "    </tr>\n",
       "  </thead>\n",
       "  <tbody>\n",
       "    <tr>\n",
       "      <th>0</th>\n",
       "      <td>37.88</td>\n",
       "      <td>-122.23</td>\n",
       "      <td>41.0</td>\n",
       "      <td>880.0</td>\n",
       "      <td>129.0</td>\n",
       "      <td>322.0</td>\n",
       "      <td>126.0</td>\n",
       "      <td>8.3252</td>\n",
       "      <td>452600.0</td>\n",
       "    </tr>\n",
       "    <tr>\n",
       "      <th>1</th>\n",
       "      <td>37.86</td>\n",
       "      <td>-122.22</td>\n",
       "      <td>21.0</td>\n",
       "      <td>7099.0</td>\n",
       "      <td>1106.0</td>\n",
       "      <td>2401.0</td>\n",
       "      <td>1138.0</td>\n",
       "      <td>8.3014</td>\n",
       "      <td>358500.0</td>\n",
       "    </tr>\n",
       "    <tr>\n",
       "      <th>2</th>\n",
       "      <td>37.85</td>\n",
       "      <td>-122.24</td>\n",
       "      <td>52.0</td>\n",
       "      <td>1467.0</td>\n",
       "      <td>190.0</td>\n",
       "      <td>496.0</td>\n",
       "      <td>177.0</td>\n",
       "      <td>7.2574</td>\n",
       "      <td>352100.0</td>\n",
       "    </tr>\n",
       "  </tbody>\n",
       "</table>\n",
       "</div>"
      ],
      "text/plain": [
       "   latitude  longitude  housing_median_age  total_rooms  total_bedrooms  \\\n",
       "0     37.88    -122.23                41.0        880.0           129.0   \n",
       "1     37.86    -122.22                21.0       7099.0          1106.0   \n",
       "2     37.85    -122.24                52.0       1467.0           190.0   \n",
       "\n",
       "   population  households  median_income  median_house_value  \n",
       "0       322.0       126.0         8.3252            452600.0  \n",
       "1      2401.0      1138.0         8.3014            358500.0  \n",
       "2       496.0       177.0         7.2574            352100.0  "
      ]
     },
     "execution_count": 401,
     "metadata": {},
     "output_type": "execute_result"
    }
   ],
   "source": [
    "# select required parameters:\n",
    "df = df[[\n",
    "    'latitude',\n",
    "    'longitude',\n",
    "    'housing_median_age',\n",
    "    'total_rooms',\n",
    "    'total_bedrooms',\n",
    "    'population',\n",
    "    'households',\n",
    "    'median_income',\n",
    "    'median_house_value'\n",
    "]]\n",
    "\n",
    "df_initial = df.copy()\n",
    "df.head(3)"
   ]
  },
  {
   "cell_type": "markdown",
   "metadata": {},
   "source": [
    "## Question 1:  \n",
    "What feature has missing values? How many missing values does it have?"
   ]
  },
  {
   "cell_type": "code",
   "execution_count": 402,
   "metadata": {},
   "outputs": [
    {
     "data": {
      "text/plain": [
       "latitude                0\n",
       "longitude               0\n",
       "housing_median_age      0\n",
       "total_rooms             0\n",
       "total_bedrooms        207\n",
       "population              0\n",
       "households              0\n",
       "median_income           0\n",
       "median_house_value      0\n",
       "dtype: int64"
      ]
     },
     "execution_count": 402,
     "metadata": {},
     "output_type": "execute_result"
    }
   ],
   "source": [
    "# looking at number of missing values by columns:\n",
    "df.isnull().sum()"
   ]
  },
  {
   "cell_type": "code",
   "execution_count": 403,
   "metadata": {},
   "outputs": [
    {
     "name": "stdout",
     "output_type": "stream",
     "text": [
      "Features with missing values are: ['total_bedrooms']\n",
      "Number of missing values are: [207]\n"
     ]
    }
   ],
   "source": [
    "# feature \"total_bedrooms\" has missing values\n",
    "features_with_missing_values = list(df.isnull().sum()[df.isnull().sum() != 0].index)\n",
    "number_of_missing_values = list(df.isnull().sum()[df.isnull().sum() != 0].values)\n",
    "\n",
    "print(f'Features with missing values are: {features_with_missing_values}')\n",
    "print(f'Number of missing values are: {number_of_missing_values}')"
   ]
  },
  {
   "cell_type": "markdown",
   "metadata": {},
   "source": [
    "## Question 2:  \n",
    "What is the median (50% percentile) for \"population\" variable?"
   ]
  },
  {
   "cell_type": "code",
   "execution_count": 404,
   "metadata": {},
   "outputs": [
    {
     "name": "stdout",
     "output_type": "stream",
     "text": [
      "Median value for population variable = 1166.0\n"
     ]
    }
   ],
   "source": [
    "# find median value for population column:\n",
    "answer = df.population.median()\n",
    "print(f'Median value for population variable = {answer}')"
   ]
  },
  {
   "cell_type": "markdown",
   "metadata": {},
   "source": [
    "# Data Splitting"
   ]
  },
  {
   "cell_type": "markdown",
   "metadata": {},
   "source": [
    "- We will shuffle the initial dataset, using random seed = 42 (for reproducible results)\n",
    "- Then Split the data into train-validation and test datasets by 60-20-20% proportion\n",
    "- Then we will isolate Target variable\n",
    "- Then apply Log1p transformation that we so above"
   ]
  },
  {
   "cell_type": "code",
   "execution_count": 405,
   "metadata": {},
   "outputs": [],
   "source": [
    "# shuffle the initial data:\n",
    "n = len(df)\n",
    "shuffled_index = np.arange(n)\n",
    "np.random.seed(42) # to make results reproducible\n",
    "np.random.shuffle(shuffled_index) # shuffle index\n",
    "\n",
    "# add shuffled_index into Initial data:\n",
    "df['shuffled_index'] = shuffled_index\n",
    "# order data by shuffled_index:\n",
    "df = df.sort_values(by='shuffled_index', ascending=True)\n",
    "# drop shuffled index additional column:\n",
    "df = df.drop(columns = ['shuffled_index'])\n",
    "# reset index of dataframe:\n",
    "df = df.reset_index(drop=True)"
   ]
  },
  {
   "cell_type": "code",
   "execution_count": 406,
   "metadata": {},
   "outputs": [
    {
     "data": {
      "text/html": [
       "<div>\n",
       "<style scoped>\n",
       "    .dataframe tbody tr th:only-of-type {\n",
       "        vertical-align: middle;\n",
       "    }\n",
       "\n",
       "    .dataframe tbody tr th {\n",
       "        vertical-align: top;\n",
       "    }\n",
       "\n",
       "    .dataframe thead th {\n",
       "        text-align: right;\n",
       "    }\n",
       "</style>\n",
       "<table border=\"1\" class=\"dataframe\">\n",
       "  <thead>\n",
       "    <tr style=\"text-align: right;\">\n",
       "      <th></th>\n",
       "      <th>latitude</th>\n",
       "      <th>longitude</th>\n",
       "      <th>housing_median_age</th>\n",
       "      <th>total_rooms</th>\n",
       "      <th>total_bedrooms</th>\n",
       "      <th>population</th>\n",
       "      <th>households</th>\n",
       "      <th>median_income</th>\n",
       "      <th>median_house_value</th>\n",
       "    </tr>\n",
       "  </thead>\n",
       "  <tbody>\n",
       "    <tr>\n",
       "      <th>0</th>\n",
       "      <td>34.14</td>\n",
       "      <td>-118.19</td>\n",
       "      <td>38.0</td>\n",
       "      <td>1826.0</td>\n",
       "      <td>300.0</td>\n",
       "      <td>793.0</td>\n",
       "      <td>297.0</td>\n",
       "      <td>5.2962</td>\n",
       "      <td>291500.0</td>\n",
       "    </tr>\n",
       "    <tr>\n",
       "      <th>1</th>\n",
       "      <td>32.91</td>\n",
       "      <td>-117.13</td>\n",
       "      <td>16.0</td>\n",
       "      <td>3230.0</td>\n",
       "      <td>579.0</td>\n",
       "      <td>1825.0</td>\n",
       "      <td>576.0</td>\n",
       "      <td>4.2969</td>\n",
       "      <td>151200.0</td>\n",
       "    </tr>\n",
       "    <tr>\n",
       "      <th>2</th>\n",
       "      <td>33.81</td>\n",
       "      <td>-117.95</td>\n",
       "      <td>33.0</td>\n",
       "      <td>1724.0</td>\n",
       "      <td>291.0</td>\n",
       "      <td>943.0</td>\n",
       "      <td>285.0</td>\n",
       "      <td>5.1180</td>\n",
       "      <td>195200.0</td>\n",
       "    </tr>\n",
       "  </tbody>\n",
       "</table>\n",
       "</div>"
      ],
      "text/plain": [
       "   latitude  longitude  housing_median_age  total_rooms  total_bedrooms  \\\n",
       "0     34.14    -118.19                38.0       1826.0           300.0   \n",
       "1     32.91    -117.13                16.0       3230.0           579.0   \n",
       "2     33.81    -117.95                33.0       1724.0           291.0   \n",
       "\n",
       "   population  households  median_income  median_house_value  \n",
       "0       793.0       297.0         5.2962            291500.0  \n",
       "1      1825.0       576.0         4.2969            151200.0  \n",
       "2       943.0       285.0         5.1180            195200.0  "
      ]
     },
     "execution_count": 406,
     "metadata": {},
     "output_type": "execute_result"
    }
   ],
   "source": [
    "df.head(3)"
   ]
  },
  {
   "cell_type": "code",
   "execution_count": 407,
   "metadata": {},
   "outputs": [
    {
     "data": {
      "text/html": [
       "<div>\n",
       "<style scoped>\n",
       "    .dataframe tbody tr th:only-of-type {\n",
       "        vertical-align: middle;\n",
       "    }\n",
       "\n",
       "    .dataframe tbody tr th {\n",
       "        vertical-align: top;\n",
       "    }\n",
       "\n",
       "    .dataframe thead th {\n",
       "        text-align: right;\n",
       "    }\n",
       "</style>\n",
       "<table border=\"1\" class=\"dataframe\">\n",
       "  <thead>\n",
       "    <tr style=\"text-align: right;\">\n",
       "      <th></th>\n",
       "      <th>latitude</th>\n",
       "      <th>longitude</th>\n",
       "      <th>housing_median_age</th>\n",
       "      <th>total_rooms</th>\n",
       "      <th>total_bedrooms</th>\n",
       "      <th>population</th>\n",
       "      <th>households</th>\n",
       "      <th>median_income</th>\n",
       "      <th>median_house_value</th>\n",
       "    </tr>\n",
       "  </thead>\n",
       "  <tbody>\n",
       "    <tr>\n",
       "      <th>0</th>\n",
       "      <td>37.88</td>\n",
       "      <td>-122.23</td>\n",
       "      <td>41.0</td>\n",
       "      <td>880.0</td>\n",
       "      <td>129.0</td>\n",
       "      <td>322.0</td>\n",
       "      <td>126.0</td>\n",
       "      <td>8.3252</td>\n",
       "      <td>452600.0</td>\n",
       "    </tr>\n",
       "    <tr>\n",
       "      <th>1</th>\n",
       "      <td>37.86</td>\n",
       "      <td>-122.22</td>\n",
       "      <td>21.0</td>\n",
       "      <td>7099.0</td>\n",
       "      <td>1106.0</td>\n",
       "      <td>2401.0</td>\n",
       "      <td>1138.0</td>\n",
       "      <td>8.3014</td>\n",
       "      <td>358500.0</td>\n",
       "    </tr>\n",
       "    <tr>\n",
       "      <th>2</th>\n",
       "      <td>37.85</td>\n",
       "      <td>-122.24</td>\n",
       "      <td>52.0</td>\n",
       "      <td>1467.0</td>\n",
       "      <td>190.0</td>\n",
       "      <td>496.0</td>\n",
       "      <td>177.0</td>\n",
       "      <td>7.2574</td>\n",
       "      <td>352100.0</td>\n",
       "    </tr>\n",
       "  </tbody>\n",
       "</table>\n",
       "</div>"
      ],
      "text/plain": [
       "   latitude  longitude  housing_median_age  total_rooms  total_bedrooms  \\\n",
       "0     37.88    -122.23                41.0        880.0           129.0   \n",
       "1     37.86    -122.22                21.0       7099.0          1106.0   \n",
       "2     37.85    -122.24                52.0       1467.0           190.0   \n",
       "\n",
       "   population  households  median_income  median_house_value  \n",
       "0       322.0       126.0         8.3252            452600.0  \n",
       "1      2401.0      1138.0         8.3014            358500.0  \n",
       "2       496.0       177.0         7.2574            352100.0  "
      ]
     },
     "execution_count": 407,
     "metadata": {},
     "output_type": "execute_result"
    }
   ],
   "source": [
    "df_initial.head(3)"
   ]
  },
  {
   "cell_type": "code",
   "execution_count": 408,
   "metadata": {},
   "outputs": [
    {
     "name": "stdout",
     "output_type": "stream",
     "text": [
      "total number of records = 20640\n",
      "train_part = 12384, val_part = 4128, test_part = 4128\n",
      "sum of train + val + test = 20640\n"
     ]
    }
   ],
   "source": [
    "# calculate number of records in each subsets:\n",
    "n = len(df)\n",
    "\n",
    "val_part = int(n * 0.2)\n",
    "test_part = int(n * 0.2)\n",
    "train_part = n - (val_part + test_part)\n",
    "\n",
    "print(f'total number of records = {n}')\n",
    "print(f'train_part = {train_part}, val_part = {val_part}, test_part = {test_part}')\n",
    "print(f'sum of train + val + test = {train_part + val_part + test_part}')"
   ]
  },
  {
   "cell_type": "code",
   "execution_count": 409,
   "metadata": {},
   "outputs": [
    {
     "name": "stdout",
     "output_type": "stream",
     "text": [
      "length df_train = 12384\n",
      "length df_val = 4128\n",
      "length df_test = 4128\n"
     ]
    }
   ],
   "source": [
    "# split data into train, validation and test datasets:\n",
    "df_train = df.iloc[ : train_part]\n",
    "df_val = df.iloc[train_part : (train_part + val_part)]\n",
    "df_test = df.iloc[(train_part + val_part) : ]\n",
    "\n",
    "print(f'length df_train = {len(df_train)}')\n",
    "print(f'length df_val = {len(df_val)}')\n",
    "print(f'length df_test = {len(df_test)}')"
   ]
  },
  {
   "cell_type": "code",
   "execution_count": 410,
   "metadata": {},
   "outputs": [],
   "source": [
    "# separate features from target variable:\n",
    "df_train_features = df_train.drop(columns = ['median_house_value'])\n",
    "df_val_features = df_val.drop(columns = ['median_house_value'])\n",
    "df_test_features = df_test.drop(columns = ['median_house_value'])\n",
    "\n",
    "y_train = np.array(df_train['median_house_value'])\n",
    "y_val = np.array(df_val['median_house_value'])\n",
    "y_test = np.array(df_test['median_house_value'])"
   ]
  },
  {
   "cell_type": "code",
   "execution_count": 411,
   "metadata": {},
   "outputs": [],
   "source": [
    "# apply log1p transformation to y:\n",
    "y_train = np.log1p(y_train)\n",
    "y_val = np.log1p(y_val)\n",
    "y_test = np.log1p(y_test)"
   ]
  },
  {
   "cell_type": "markdown",
   "metadata": {},
   "source": [
    "## Question 3:  \n",
    "We need to deal with missing values in total_bedrooms feature.  \n",
    "We can fill missing values with:\n",
    "- 0 or\n",
    "- mean or median value in this variable (train dataset)  \n",
    "\n",
    "Let's try Both options: \n",
    "- train a linear regression model without regularization,\n",
    "- use validation data to evaluate model's performance and compare RMSE (root mean squared error) for each option"
   ]
  },
  {
   "cell_type": "code",
   "execution_count": 412,
   "metadata": {},
   "outputs": [],
   "source": [
    "# function to prepare dataset Matrix (fillna(0)):\n",
    "def prepare_X_fill_0(df):\n",
    "    df = df.copy()\n",
    "    df = df.fillna(0) # fill with 0\n",
    "    X = df.values\n",
    "    return X\n",
    "\n",
    "def prepare_X_fill_mean(df):\n",
    "    df = df.copy()\n",
    "    mean_bedrooms = df['total_bedrooms'].mean() # mean value for column\n",
    "    df['total_bedrooms'] = df['total_bedrooms'].fillna(mean_bedrooms) # fill with mean value\n",
    "    X = df.values\n",
    "    return X\n",
    "\n",
    "def prepare_X_fill_median(df):\n",
    "    df = df.copy()\n",
    "    median_bedrooms = df['total_bedrooms'].median() # median value for column\n",
    "    df['total_bedrooms'] = df['total_bedrooms'].fillna(median_bedrooms) # fill empty values with median\n",
    "    X = df.values\n",
    "    return X"
   ]
  },
  {
   "cell_type": "code",
   "execution_count": 413,
   "metadata": {},
   "outputs": [],
   "source": [
    "# function to train the Linear Regression model (calculating weights):\n",
    "def linear_regression_fit(x_train, y_train):\n",
    "    ones = np.ones(x_train.shape[0]) # create array with `1` to add into bias term feature\n",
    "    x_train = np.column_stack([ones, x_train]) # add 1st column of 1 into feature matrix\n",
    "\n",
    "    # solve Matrix equation for finding coefficients of linear regression:\n",
    "    XTX = x_train.T.dot(x_train) # Gram matrix\n",
    "    XTX_inv = np.linalg.inv(XTX) # Inverse of Gram matrix\n",
    "    # calc coefficients:\n",
    "    #w_full = x_train.T.dot(XTX_inv).dot(y_train)\n",
    "    w_full = XTX_inv.dot(x_train.T).dot(y_train)\n",
    "    w0 = w_full[0]\n",
    "    w = w_full[1:]\n",
    "\n",
    "    return w0, w"
   ]
  },
  {
   "cell_type": "code",
   "execution_count": 414,
   "metadata": {},
   "outputs": [],
   "source": [
    "# function for marking predictions:\n",
    "def linear_regression_predict(x_val, w0, w_array):\n",
    "    y_pred = w0 + x_val.dot(w_array)\n",
    "    return y_pred"
   ]
  },
  {
   "cell_type": "code",
   "execution_count": 415,
   "metadata": {},
   "outputs": [],
   "source": [
    "# function to calculate RMSE:\n",
    "def rmse_calc(y_pred, y_val):\n",
    "    SE = (y_pred - y_val) ** 2\n",
    "    MSE = SE.mean()\n",
    "    RMSE = np.sqrt(MSE)\n",
    "    return RMSE"
   ]
  },
  {
   "cell_type": "code",
   "execution_count": 416,
   "metadata": {},
   "outputs": [],
   "source": [
    "#prepare x_train:\n",
    "x_train_0 = prepare_X_fill_0(df_train_features) # dataset with 0 instead empty values:\n",
    "x_train_mean = prepare_X_fill_mean(df_train_features) #dataset with mean values instead of empty:\n",
    "x_train_median = prepare_X_fill_median(df_train_features) # dataset with median values instead of empty:\n",
    "\n",
    "# prepare x_val:\n",
    "x_val_0 = prepare_X_fill_0(df_val_features)\n",
    "x_val_mean = prepare_X_fill_mean(df_val_features)\n",
    "x_val_median = prepare_X_fill_median(df_val_features)"
   ]
  },
  {
   "cell_type": "code",
   "execution_count": 417,
   "metadata": {},
   "outputs": [
    {
     "name": "stdout",
     "output_type": "stream",
     "text": [
      "RMSE score for model_0 = 0.337\n",
      "RMSE score for model_mean = 0.337\n",
      "RMSE score for model_median = 0.337\n"
     ]
    }
   ],
   "source": [
    "# fit models:\n",
    "w0_model_0, w_model_0 = linear_regression_fit(x_train_0, y_train)# fit model with 0 instead empty values\n",
    "w0_model_mean, w_model_mean = linear_regression_fit(x_train_mean, y_train)# fit model with mean values instead empty\n",
    "w0_model_median, w_model_median = linear_regression_fit(x_train_median, y_train)# fil model with median values instead empty\n",
    "\n",
    "#make predictions:\n",
    "y_pred_0 = linear_regression_predict(x_val_0, w0_model_0, w_model_0)# make predictions with model_0\n",
    "y_pred_mean = linear_regression_predict(x_val_mean, w0_model_mean, w_model_mean)# make pred with model_mean\n",
    "y_pred_median = linear_regression_predict(x_val_median, w0_model_median, w_model_median)# make predictions with model_median\n",
    "\n",
    "# calculate rmse:\n",
    "rmse_model_0 = rmse_calc(y_pred_0, y_val)# calc RMSE for model_0\n",
    "rmse_model_mean = rmse_calc(y_pred_mean, y_val)# calc RMSE for model_mean\n",
    "rmse_model_median = rmse_calc(y_pred_median, y_val) # rmse for model median\n",
    "\n",
    "print(f'RMSE score for model_0 = {round(rmse_model_0, 3)}')\n",
    "print(f'RMSE score for model_mean = {round(rmse_model_mean, 3)}')\n",
    "print(f'RMSE score for model_median = {round(rmse_model_median, 3)}')"
   ]
  },
  {
   "cell_type": "markdown",
   "metadata": {},
   "source": [
    "RMSE for all 3 options is resonably close"
   ]
  },
  {
   "cell_type": "markdown",
   "metadata": {},
   "source": [
    "## Question 4:\n",
    "Now we will try to improve the model performance using Regularization  \n",
    "We will fill empty values with 0 for convenience, since the difference is not significant  "
   ]
  },
  {
   "cell_type": "code",
   "execution_count": 418,
   "metadata": {},
   "outputs": [],
   "source": [
    "# function for Linear Regression model training with Regularization:\n",
    "def linear_regression_fit_r(x_train, y_train, r=0):\n",
    "    ones = np.ones(x_train.shape[0])\n",
    "    x_train = np.column_stack([ones, x_train])\n",
    "\n",
    "    XTX = x_train.T.dot(x_train)\n",
    "\n",
    "    # create I matrix:\n",
    "    I_matrix = np.eye(XTX.shape[0])\n",
    "    # multiply I matrix on r value:\n",
    "    reg_matrix = I_matrix * r\n",
    "    # add regularization matrix to Gram matrix:\n",
    "    XTX = XTX + reg_matrix\n",
    "    XTX_inv = np.linalg.inv(XTX)\n",
    "    w_full = XTX_inv.dot(x_train.T).dot(y_train)\n",
    "    w0 = w_full[0]\n",
    "    w = w_full[1:]\n",
    "\n",
    "    return w0, w"
   ]
  },
  {
   "cell_type": "markdown",
   "metadata": {},
   "source": [
    "Now let's try different Regularization parameter and measure Model performance:"
   ]
  },
  {
   "cell_type": "code",
   "execution_count": 419,
   "metadata": {},
   "outputs": [
    {
     "name": "stdout",
     "output_type": "stream",
     "text": [
      "For r = 0, RMSE_score = 0.34\n",
      "For r = 1e-06, RMSE_score = 0.34\n",
      "For r = 0.0001, RMSE_score = 0.34\n",
      "For r = 0.001, RMSE_score = 0.34\n",
      "For r = 0.01, RMSE_score = 0.34\n",
      "For r = 0.1, RMSE_score = 0.34\n",
      "For r = 1, RMSE_score = 0.34\n",
      "For r = 5, RMSE_score = 0.35\n",
      "For r = 10, RMSE_score = 0.35\n"
     ]
    }
   ],
   "source": [
    "# list of r to check:\n",
    "r_list = [0, 0.000001, 0.0001, 0.001, 0.01, 0.1, 1, 5, 10]\n",
    "\n",
    "x_train = prepare_X_fill_0(df_train_features) # fill empty values with 0\n",
    "x_val = prepare_X_fill_0(df_val_features)\n",
    "\n",
    "# for each of options of Regularization parameter\n",
    "for r in r_list:\n",
    "    #train model:\n",
    "    w0, w = linear_regression_fit_r(x_train, y_train, r = r)\n",
    "    # make prediction\n",
    "    y_pred = linear_regression_predict(x_val, w0, w)\n",
    "    # calc rmse:\n",
    "    rmse_score = rmse_calc(y_pred, y_val)\n",
    "    print(f'For r = {r}, RMSE_score = {round(rmse_score, 2)}')"
   ]
  },
  {
   "cell_type": "markdown",
   "metadata": {},
   "source": [
    "Regularization does not give obvious results in our case, Smallest r with same RMSE is 0"
   ]
  },
  {
   "cell_type": "markdown",
   "metadata": {},
   "source": [
    "## Question 5"
   ]
  },
  {
   "cell_type": "markdown",
   "metadata": {},
   "source": [
    "We used random seed = 42 for reproducible results  \n",
    "Now let's find out how selection splitting of the data influence the model performance:  \n",
    "- we will try different random seeds: [0, 1, 2, 3, 4, 5, 6, 7, 8, 9]\n",
    "- for each random seed, we will train the model without Regularization, make predictions and calculate RMSE\n",
    "- then we will calculate Standard Deviation (SD) for RMSE scores on different random seeds, by SD we will guess how stable our model is"
   ]
  },
  {
   "cell_type": "code",
   "execution_count": 420,
   "metadata": {},
   "outputs": [],
   "source": [
    "def ML_life_cycle(df, random_seed):\n",
    "\n",
    "    # shuffle:\n",
    "    df = df.copy()\n",
    "    n = len(df)\n",
    "    shuffled_index = np.arange(n)\n",
    "    np.random.seed(random_seed)\n",
    "    np.random.shuffle(shuffled_index)\n",
    "\n",
    "    df['shuffled_index'] = shuffled_index\n",
    "    df = df.sort_values(by='shuffled_index', ascending=True)\n",
    "    df = df.drop(columns = ['shuffled_index'])\n",
    "    df = df.reset_index(drop=True)\n",
    "\n",
    "    # splitting:\n",
    "    n = len(df)\n",
    "    val_part = int(n * 0.2)\n",
    "    test_part = int(n * 0.2)\n",
    "    train_part = n - (val_part + test_part)\n",
    "    df_train = df.iloc[ : train_part]\n",
    "    df_val = df.iloc[train_part : (train_part + val_part)]\n",
    "    df_test = df.iloc[(train_part + val_part) : ]\n",
    "    \n",
    "    # separate features from target variable:\n",
    "    df_train_features = df_train.drop(columns = ['median_house_value'])\n",
    "    df_val_features = df_val.drop(columns = ['median_house_value'])\n",
    "    df_test_features = df_test.drop(columns = ['median_house_value'])\n",
    "    y_train = np.array(df_train['median_house_value'])\n",
    "    y_val = np.array(df_val['median_house_value'])\n",
    "    y_test = np.array(df_test['median_house_value'])\n",
    "    # apply log1p transformation to y:\n",
    "    y_train = np.log1p(y_train)\n",
    "    y_val = np.log1p(y_val)\n",
    "    y_test = np.log1p(y_test)\n",
    "\n",
    "    x_train = prepare_X_fill_0(df_train_features)\n",
    "    x_val = prepare_X_fill_0(df_val_features)\n",
    "    w0, w = linear_regression_fit(x_train, y_train) # train model\n",
    "    y_pred = linear_regression_predict(x_val, w0, w) # make predictions\n",
    "    rmse_score = rmse_calc(y_pred, y_val) # rmse calculation\n",
    "    return rmse_score"
   ]
  },
  {
   "cell_type": "code",
   "execution_count": 421,
   "metadata": {},
   "outputs": [
    {
     "name": "stdout",
     "output_type": "stream",
     "text": [
      "Rand Seed = 0, RMSE = 0.3365724771962156\n",
      "Rand Seed = 1, RMSE = 0.3384915167198516\n",
      "Rand Seed = 2, RMSE = 0.34182215082784256\n",
      "Rand Seed = 3, RMSE = 0.3394404545554099\n",
      "Rand Seed = 4, RMSE = 0.33612008008997896\n",
      "Rand Seed = 5, RMSE = 0.3392376355765129\n",
      "Rand Seed = 6, RMSE = 0.3518973342019449\n",
      "Rand Seed = 7, RMSE = 0.34863687683842615\n",
      "Rand Seed = 8, RMSE = 0.343553569169414\n",
      "Rand Seed = 9, RMSE = 0.3384608743807405\n"
     ]
    }
   ],
   "source": [
    "rmse_scores_list = []\n",
    "random_seeds_list = [0, 1, 2, 3, 4, 5, 6, 7, 8, 9]\n",
    "\n",
    "for seed in random_seeds_list:\n",
    "    rmse_score = ML_life_cycle(df_initial, seed)\n",
    "    rmse_scores_list.append(rmse_score)\n",
    "\n",
    "    print(f'Rand Seed = {seed}, RMSE = {rmse_score}')"
   ]
  },
  {
   "cell_type": "code",
   "execution_count": 422,
   "metadata": {},
   "outputs": [
    {
     "data": {
      "text/plain": [
       "0.005"
      ]
     },
     "execution_count": 422,
     "metadata": {},
     "output_type": "execute_result"
    }
   ],
   "source": [
    "# calculate Standard Deviation of rmse scores for different data splitting:\n",
    "round(np.std(rmse_scores_list), 3)"
   ]
  },
  {
   "cell_type": "markdown",
   "metadata": {},
   "source": [
    "## Question 6"
   ]
  },
  {
   "cell_type": "markdown",
   "metadata": {},
   "source": [
    "Now, we ready to Test model on the Test dataset, for that we will:\n",
    "- split the data as before, using random seed = 9\n",
    "- combine train and validation datasets\n",
    "- fill empty values with 0 and\n",
    "- train model using Regularization = 0.001\n",
    "- and then test model on Test data"
   ]
  },
  {
   "cell_type": "code",
   "execution_count": 431,
   "metadata": {},
   "outputs": [
    {
     "name": "stdout",
     "output_type": "stream",
     "text": [
      "RMSE on Test data = 0.34\n"
     ]
    }
   ],
   "source": [
    "# shuffle:\n",
    "df = df_initial.copy()\n",
    "n = len(df)\n",
    "shuffled_index = np.arange(n)\n",
    "np.random.seed(9)\n",
    "np.random.shuffle(shuffled_index)\n",
    "\n",
    "df['shuffled_index'] = shuffled_index\n",
    "df = df.sort_values(by='shuffled_index', ascending=True)\n",
    "df = df.drop(columns = ['shuffled_index'])\n",
    "df = df.reset_index(drop=True)\n",
    "\n",
    "# splitting:\n",
    "n = len(df)\n",
    "val_part = int(n * 0.2)\n",
    "test_part = int(n * 0.2)\n",
    "train_part = n - (val_part + test_part)\n",
    "df_train = df.iloc[ : train_part]\n",
    "df_val = df.iloc[train_part : (train_part + val_part)]\n",
    "df_test = df.iloc[(train_part + val_part) : ]\n",
    "    \n",
    "# separate features from target variable:\n",
    "df_train_features = df_train.drop(columns = ['median_house_value'])\n",
    "df_val_features = df_val.drop(columns = ['median_house_value'])\n",
    "df_test_features = df_test.drop(columns = ['median_house_value'])\n",
    "y_train = np.array(df_train['median_house_value'])\n",
    "y_val = np.array(df_val['median_house_value'])\n",
    "y_test = np.array(df_test['median_house_value'])\n",
    "# apply log1p transformation to y:\n",
    "y_train = np.log1p(y_train)\n",
    "y_val = np.log1p(y_val)\n",
    "y_test = np.log1p(y_test)\n",
    "\n",
    "# combine train and validation data:\n",
    "df_train_val = pd.concat([df_train_features, df_val_features])\n",
    "y_train_val = np.concatenate([y_train, y_val])\n",
    "\n",
    "x_train_val = prepare_X_fill_0(df_train_val)\n",
    "x_test = prepare_X_fill_0(df_test_features)\n",
    "w0, w = linear_regression_fit_r(x_train_val, y_train_val, r=0.001) # train model\n",
    "y_pred = linear_regression_predict(x_test, w0, w) # make predictions\n",
    "rmse_score = rmse_calc(y_pred, y_test) # rmse calculation\n",
    "print(f'RMSE on Test data = {round(rmse_score, 2)}')"
   ]
  }
 ],
 "metadata": {
  "kernelspec": {
   "display_name": "Python 3.10.4 64-bit",
   "language": "python",
   "name": "python3"
  },
  "language_info": {
   "codemirror_mode": {
    "name": "ipython",
    "version": 3
   },
   "file_extension": ".py",
   "mimetype": "text/x-python",
   "name": "python",
   "nbconvert_exporter": "python",
   "pygments_lexer": "ipython3",
   "version": "3.10.4"
  },
  "orig_nbformat": 4,
  "vscode": {
   "interpreter": {
    "hash": "26de051ba29f2982a8de78e945f0abaf191376122a1563185a90213a26c5da77"
   }
  }
 },
 "nbformat": 4,
 "nbformat_minor": 2
}
